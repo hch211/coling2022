{
 "cells": [
  {
   "cell_type": "code",
   "execution_count": 1,
   "id": "96c1a135",
   "metadata": {},
   "outputs": [
    {
     "name": "stdout",
     "output_type": "stream",
     "text": [
      "The test data length:  14\n"
     ]
    }
   ],
   "source": [
    "from src.models import FtModel\n",
    "from src.config import parse_args\n",
    "from src.dataset import FinetuneDataset\n",
    "from src.utils import *\n",
    "\n",
    "from torch.utils.data import DataLoader, Dataset, RandomSampler, SequentialSampler, Subset, WeightedRandomSampler\n",
    "import os\n",
    "from tqdm import tqdm,trange\n",
    "import pandas as pd\n",
    "import torch\n",
    "import sys\n",
    "import gc\n",
    "\n",
    "args = parse_args()\n",
    "\n",
    "args.gpu_ids='1'\n",
    "args.bert_seq_length=128\n",
    "args.ema_start=0\n",
    "args.ema_decay=0.99\n",
    "args.result_file=\"answer.txt\"\n",
    "args.bert_dir='digitalepidemiologylab/covid-twitter-bert'\n",
    "\n",
    "os.environ['CUDA_VISIBLE_DEVICES'] = args.gpu_ids\n",
    "setup_device(args)\n",
    "setup_seed(args)\n",
    "test_dataset = FinetuneDataset(args, args.test_path, True)\n",
    "test_sampler = SequentialSampler(test_dataset)\n",
    "test_dataloader = DataLoader(test_dataset,\n",
    "                                batch_size=args.val_batch_size,\n",
    "                                sampler=test_sampler,\n",
    "                                drop_last=False,\n",
    "                                pin_memory=True)\n",
    "print('The test data length: ',len(test_dataloader))"
   ]
  },
  {
   "cell_type": "code",
   "execution_count": 4,
   "id": "e1627204",
   "metadata": {},
   "outputs": [
    {
     "name": "stderr",
     "output_type": "stream",
     "text": [
      "Some weights of the model checkpoint at digitalepidemiologylab/covid-twitter-bert were not used when initializing BertModel: ['cls.seq_relationship.weight', 'cls.predictions.transform.LayerNorm.bias', 'cls.predictions.transform.LayerNorm.weight', 'cls.predictions.decoder.bias', 'cls.predictions.transform.dense.weight', 'cls.predictions.bias', 'cls.predictions.transform.dense.bias', 'cls.seq_relationship.bias', 'cls.predictions.decoder.weight']\n",
      "- This IS expected if you are initializing BertModel from the checkpoint of a model trained on another task or with another architecture (e.g. initializing a BertForSequenceClassification model from a BertForPreTraining model).\n",
      "- This IS NOT expected if you are initializing BertModel from the checkpoint of a model that you expect to be exactly identical (initializing a BertForSequenceClassification model from a BertForSequenceClassification model).\n"
     ]
    },
    {
     "name": "stdout",
     "output_type": "stream",
     "text": [
      "The epoch 2 and the best mean f1 0.8406 of the validation set.\n"
     ]
    },
    {
     "name": "stderr",
     "output_type": "stream",
     "text": [
      "Evaluating: 100%|██████████| 14/14 [00:06<00:00,  2.32it/s]\n",
      "Some weights of the model checkpoint at digitalepidemiologylab/covid-twitter-bert were not used when initializing BertModel: ['cls.seq_relationship.weight', 'cls.predictions.transform.LayerNorm.bias', 'cls.predictions.transform.LayerNorm.weight', 'cls.predictions.decoder.bias', 'cls.predictions.transform.dense.weight', 'cls.predictions.bias', 'cls.predictions.transform.dense.bias', 'cls.seq_relationship.bias', 'cls.predictions.decoder.weight']\n",
      "- This IS expected if you are initializing BertModel from the checkpoint of a model trained on another task or with another architecture (e.g. initializing a BertForSequenceClassification model from a BertForPreTraining model).\n",
      "- This IS NOT expected if you are initializing BertModel from the checkpoint of a model that you expect to be exactly identical (initializing a BertForSequenceClassification model from a BertForSequenceClassification model).\n"
     ]
    },
    {
     "name": "stdout",
     "output_type": "stream",
     "text": [
      "The epoch 2 and the best mean f1 0.8393 of the validation set.\n"
     ]
    },
    {
     "name": "stderr",
     "output_type": "stream",
     "text": [
      "Evaluating: 100%|██████████| 14/14 [00:06<00:00,  2.31it/s]\n",
      "Some weights of the model checkpoint at digitalepidemiologylab/covid-twitter-bert were not used when initializing BertModel: ['cls.seq_relationship.weight', 'cls.predictions.transform.LayerNorm.bias', 'cls.predictions.transform.LayerNorm.weight', 'cls.predictions.decoder.bias', 'cls.predictions.transform.dense.weight', 'cls.predictions.bias', 'cls.predictions.transform.dense.bias', 'cls.seq_relationship.bias', 'cls.predictions.decoder.weight']\n",
      "- This IS expected if you are initializing BertModel from the checkpoint of a model trained on another task or with another architecture (e.g. initializing a BertForSequenceClassification model from a BertForPreTraining model).\n",
      "- This IS NOT expected if you are initializing BertModel from the checkpoint of a model that you expect to be exactly identical (initializing a BertForSequenceClassification model from a BertForSequenceClassification model).\n"
     ]
    },
    {
     "name": "stdout",
     "output_type": "stream",
     "text": [
      "The epoch 2 and the best mean f1 0.8534 of the validation set.\n"
     ]
    },
    {
     "name": "stderr",
     "output_type": "stream",
     "text": [
      "Evaluating: 100%|██████████| 14/14 [00:06<00:00,  2.32it/s]\n",
      "Some weights of the model checkpoint at digitalepidemiologylab/covid-twitter-bert were not used when initializing BertModel: ['cls.seq_relationship.weight', 'cls.predictions.transform.LayerNorm.bias', 'cls.predictions.transform.LayerNorm.weight', 'cls.predictions.decoder.bias', 'cls.predictions.transform.dense.weight', 'cls.predictions.bias', 'cls.predictions.transform.dense.bias', 'cls.seq_relationship.bias', 'cls.predictions.decoder.weight']\n",
      "- This IS expected if you are initializing BertModel from the checkpoint of a model trained on another task or with another architecture (e.g. initializing a BertForSequenceClassification model from a BertForPreTraining model).\n",
      "- This IS NOT expected if you are initializing BertModel from the checkpoint of a model that you expect to be exactly identical (initializing a BertForSequenceClassification model from a BertForSequenceClassification model).\n"
     ]
    },
    {
     "name": "stdout",
     "output_type": "stream",
     "text": [
      "The epoch 3 and the best mean f1 0.8373 of the validation set.\n"
     ]
    },
    {
     "name": "stderr",
     "output_type": "stream",
     "text": [
      "Evaluating: 100%|██████████| 14/14 [00:06<00:00,  2.31it/s]\n",
      "Some weights of the model checkpoint at digitalepidemiologylab/covid-twitter-bert were not used when initializing BertModel: ['cls.seq_relationship.weight', 'cls.predictions.transform.LayerNorm.bias', 'cls.predictions.transform.LayerNorm.weight', 'cls.predictions.decoder.bias', 'cls.predictions.transform.dense.weight', 'cls.predictions.bias', 'cls.predictions.transform.dense.bias', 'cls.seq_relationship.bias', 'cls.predictions.decoder.weight']\n",
      "- This IS expected if you are initializing BertModel from the checkpoint of a model trained on another task or with another architecture (e.g. initializing a BertForSequenceClassification model from a BertForPreTraining model).\n",
      "- This IS NOT expected if you are initializing BertModel from the checkpoint of a model that you expect to be exactly identical (initializing a BertForSequenceClassification model from a BertForSequenceClassification model).\n"
     ]
    },
    {
     "name": "stdout",
     "output_type": "stream",
     "text": [
      "The epoch 1 and the best mean f1 0.8254 of the validation set.\n"
     ]
    },
    {
     "name": "stderr",
     "output_type": "stream",
     "text": [
      "Evaluating: 100%|██████████| 14/14 [00:06<00:00,  2.31it/s]\n"
     ]
    },
    {
     "name": "stdout",
     "output_type": "stream",
     "text": [
      "task a\n"
     ]
    },
    {
     "name": "stderr",
     "output_type": "stream",
     "text": [
      "100%|██████████| 839/839 [00:00<00:00, 44371.02it/s]\n"
     ]
    }
   ],
   "source": [
    "#no pseudo\n",
    "args.result_file=\"result.tsv\"\n",
    "ckpoint_list = ['data/checkpoint/fold0/model_epoch_2_f1_0.8406_400.bin',\n",
    "                'data/checkpoint/fold1/model_epoch_2_f1_0.8393_500.bin',\n",
    "                'data/checkpoint/fold2/model_epoch_2_f1_0.8534_400.bin',\n",
    "                'data/checkpoint/fold3/model_epoch_3_f1_0.8373_600.bin',\n",
    "                'data/checkpoint/fold4/model_epoch_1_f1_0.8254_300.bin']\n",
    "\n",
    "for i in range(5):\n",
    "    probabilities = None\n",
    "    model = FtModel(args).to(args.device)\n",
    "    ckpoint = torch.load(ckpoint_list[i])\n",
    "    model.load_state_dict(ckpoint['model_state_dict'])\n",
    "    print(\"The epoch {} and the best mean f1 {:.4f} of the validation set.\".format(ckpoint['epoch'],ckpoint['mean_f1']))\n",
    "\n",
    "    if args.ema_start >= 0:\n",
    "        ema = EMA(model, args.ema_decay)\n",
    "        ema.resume(ckpoint['shadow'][0], ckpoint['backup'][0])\n",
    "        # ema.shadow = \n",
    "        ema.apply_shadow()\n",
    "\n",
    "    model.eval()\n",
    "    predictions = []\n",
    "    with torch.no_grad():\n",
    "        for step, batch in enumerate(tqdm(test_dataloader,desc=\"Evaluating\")):\n",
    "            for k in batch:\n",
    "                batch[k] = batch[k].cuda()\n",
    "            if probabilities == None:\n",
    "                probabilities = model(batch,True)\n",
    "            else:\n",
    "                probabilities = torch.cat([probabilities,model(batch,True)])\n",
    "    if i == 0:\n",
    "        probability = probabilities\n",
    "    else:\n",
    "        probability += probabilities\n",
    "        \n",
    "#     del model\n",
    "#     del ckpoint\n",
    "#     del ema\n",
    "#     gc.collect()\n",
    "        \n",
    "pred_label_id = torch.argmax(probabilities/5, dim=1)\n",
    "predictions.extend(pred_label_id.cpu().numpy())\n",
    "\n",
    "with open(f\"data/{args.result_file}\",\"w+\") as f:\n",
    "    print('task a')\n",
    "    f.write(f\"text\\ttweet_id\\tlabel\\n\")\n",
    "    for i in trange(len(predictions)):\n",
    "        i_d = test_dataset.data['tweet_id'].iloc[i]\n",
    "        text = test_dataset.data['text'].iloc[i]\n",
    "        label = int(predictions[i])\n",
    "\n",
    "        f.write(f\"{text}\\t{i_d}\\t{label}\\n\")"
   ]
  },
  {
   "cell_type": "code",
   "execution_count": 3,
   "id": "8232317f",
   "metadata": {},
   "outputs": [
    {
     "name": "stderr",
     "output_type": "stream",
     "text": [
      "Some weights of the model checkpoint at digitalepidemiologylab/covid-twitter-bert were not used when initializing BertModel: ['cls.seq_relationship.weight', 'cls.predictions.transform.LayerNorm.bias', 'cls.predictions.transform.LayerNorm.weight', 'cls.predictions.decoder.bias', 'cls.predictions.transform.dense.weight', 'cls.predictions.bias', 'cls.predictions.transform.dense.bias', 'cls.seq_relationship.bias', 'cls.predictions.decoder.weight']\n",
      "- This IS expected if you are initializing BertModel from the checkpoint of a model trained on another task or with another architecture (e.g. initializing a BertForSequenceClassification model from a BertForPreTraining model).\n",
      "- This IS NOT expected if you are initializing BertModel from the checkpoint of a model that you expect to be exactly identical (initializing a BertForSequenceClassification model from a BertForSequenceClassification model).\n"
     ]
    },
    {
     "name": "stdout",
     "output_type": "stream",
     "text": [
      "The epoch 2 and the best mean f1 0.8406 of the validation set.\n"
     ]
    },
    {
     "name": "stderr",
     "output_type": "stream",
     "text": [
      "Evaluating: 100%|██████████| 14/14 [00:06<00:00,  2.33it/s]\n",
      "Some weights of the model checkpoint at digitalepidemiologylab/covid-twitter-bert were not used when initializing BertModel: ['cls.seq_relationship.weight', 'cls.predictions.transform.LayerNorm.bias', 'cls.predictions.transform.LayerNorm.weight', 'cls.predictions.decoder.bias', 'cls.predictions.transform.dense.weight', 'cls.predictions.bias', 'cls.predictions.transform.dense.bias', 'cls.seq_relationship.bias', 'cls.predictions.decoder.weight']\n",
      "- This IS expected if you are initializing BertModel from the checkpoint of a model trained on another task or with another architecture (e.g. initializing a BertForSequenceClassification model from a BertForPreTraining model).\n",
      "- This IS NOT expected if you are initializing BertModel from the checkpoint of a model that you expect to be exactly identical (initializing a BertForSequenceClassification model from a BertForSequenceClassification model).\n"
     ]
    },
    {
     "name": "stdout",
     "output_type": "stream",
     "text": [
      "The epoch 2 and the best mean f1 0.8393 of the validation set.\n"
     ]
    },
    {
     "name": "stderr",
     "output_type": "stream",
     "text": [
      "Evaluating: 100%|██████████| 14/14 [00:06<00:00,  2.33it/s]\n",
      "Some weights of the model checkpoint at digitalepidemiologylab/covid-twitter-bert were not used when initializing BertModel: ['cls.seq_relationship.weight', 'cls.predictions.transform.LayerNorm.bias', 'cls.predictions.transform.LayerNorm.weight', 'cls.predictions.decoder.bias', 'cls.predictions.transform.dense.weight', 'cls.predictions.bias', 'cls.predictions.transform.dense.bias', 'cls.seq_relationship.bias', 'cls.predictions.decoder.weight']\n",
      "- This IS expected if you are initializing BertModel from the checkpoint of a model trained on another task or with another architecture (e.g. initializing a BertForSequenceClassification model from a BertForPreTraining model).\n",
      "- This IS NOT expected if you are initializing BertModel from the checkpoint of a model that you expect to be exactly identical (initializing a BertForSequenceClassification model from a BertForSequenceClassification model).\n"
     ]
    },
    {
     "name": "stdout",
     "output_type": "stream",
     "text": [
      "The epoch 2 and the best mean f1 0.8534 of the validation set.\n"
     ]
    },
    {
     "name": "stderr",
     "output_type": "stream",
     "text": [
      "Evaluating: 100%|██████████| 14/14 [00:06<00:00,  2.32it/s]\n",
      "Some weights of the model checkpoint at digitalepidemiologylab/covid-twitter-bert were not used when initializing BertModel: ['cls.seq_relationship.weight', 'cls.predictions.transform.LayerNorm.bias', 'cls.predictions.transform.LayerNorm.weight', 'cls.predictions.decoder.bias', 'cls.predictions.transform.dense.weight', 'cls.predictions.bias', 'cls.predictions.transform.dense.bias', 'cls.seq_relationship.bias', 'cls.predictions.decoder.weight']\n",
      "- This IS expected if you are initializing BertModel from the checkpoint of a model trained on another task or with another architecture (e.g. initializing a BertForSequenceClassification model from a BertForPreTraining model).\n",
      "- This IS NOT expected if you are initializing BertModel from the checkpoint of a model that you expect to be exactly identical (initializing a BertForSequenceClassification model from a BertForSequenceClassification model).\n"
     ]
    },
    {
     "name": "stdout",
     "output_type": "stream",
     "text": [
      "The epoch 3 and the best mean f1 0.8373 of the validation set.\n"
     ]
    },
    {
     "name": "stderr",
     "output_type": "stream",
     "text": [
      "Evaluating: 100%|██████████| 14/14 [00:06<00:00,  2.32it/s]\n",
      "Some weights of the model checkpoint at digitalepidemiologylab/covid-twitter-bert were not used when initializing BertModel: ['cls.seq_relationship.weight', 'cls.predictions.transform.LayerNorm.bias', 'cls.predictions.transform.LayerNorm.weight', 'cls.predictions.decoder.bias', 'cls.predictions.transform.dense.weight', 'cls.predictions.bias', 'cls.predictions.transform.dense.bias', 'cls.seq_relationship.bias', 'cls.predictions.decoder.weight']\n",
      "- This IS expected if you are initializing BertModel from the checkpoint of a model trained on another task or with another architecture (e.g. initializing a BertForSequenceClassification model from a BertForPreTraining model).\n",
      "- This IS NOT expected if you are initializing BertModel from the checkpoint of a model that you expect to be exactly identical (initializing a BertForSequenceClassification model from a BertForSequenceClassification model).\n"
     ]
    },
    {
     "name": "stdout",
     "output_type": "stream",
     "text": [
      "The epoch 1 and the best mean f1 0.8254 of the validation set.\n"
     ]
    },
    {
     "name": "stderr",
     "output_type": "stream",
     "text": [
      "Evaluating: 100%|██████████| 14/14 [00:06<00:00,  2.32it/s]\n"
     ]
    },
    {
     "name": "stdout",
     "output_type": "stream",
     "text": [
      "task a\n"
     ]
    },
    {
     "name": "stderr",
     "output_type": "stream",
     "text": [
      "100%|██████████| 839/839 [00:00<00:00, 82428.11it/s]\n"
     ]
    }
   ],
   "source": [
    "#pseudo\n",
    "args.result_file=\"answer.txt\"\n",
    "ckpoint_list = ['data/checkpoint/fold0/model_epoch_2_f1_0.8406_400.bin',\n",
    "                'data/checkpoint/fold1/model_epoch_2_f1_0.8393_500.bin',\n",
    "                'data/checkpoint/fold2/model_epoch_2_f1_0.8534_400.bin',\n",
    "                'data/checkpoint/fold3/model_epoch_3_f1_0.8373_600.bin',\n",
    "                'data/checkpoint/fold4/model_epoch_1_f1_0.8254_300.bin']\n",
    "\n",
    "for i in range(5):\n",
    "    probabilities = None\n",
    "    model = FtModel(args).to(args.device)\n",
    "    ckpoint = torch.load(ckpoint_list[i])\n",
    "    model.load_state_dict(ckpoint['model_state_dict'])\n",
    "    print(\"The epoch {} and the best mean f1 {:.4f} of the validation set.\".format(ckpoint['epoch'],ckpoint['mean_f1']))\n",
    "\n",
    "    if args.ema_start >= 0:\n",
    "        ema = EMA(model, args.ema_decay)\n",
    "        ema.resume(ckpoint['shadow'][0], ckpoint['backup'][0])\n",
    "        # ema.shadow = \n",
    "        ema.apply_shadow()\n",
    "\n",
    "    model.eval()\n",
    "    predictions = []\n",
    "    with torch.no_grad():\n",
    "        for step, batch in enumerate(tqdm(test_dataloader,desc=\"Evaluating\")):\n",
    "            for k in batch:\n",
    "                batch[k] = batch[k].cuda()\n",
    "            if probabilities == None:\n",
    "                probabilities = model(batch,True)\n",
    "            else:\n",
    "                probabilities = torch.cat([probabilities,model(batch,True)])\n",
    "    if i == 0:\n",
    "        probability = probabilities\n",
    "    else:\n",
    "        probability += probabilities\n",
    "        \n",
    "#     del model\n",
    "#     del ckpoint\n",
    "#     del ema\n",
    "#     gc.collect()\n",
    "        \n",
    "pred_label_id = torch.argmax(probabilities/5, dim=1)\n",
    "predictions.extend(pred_label_id.cpu().numpy())\n",
    "\n",
    "with open(f\"data/{args.result_file}\",\"w+\") as f:\n",
    "    print('task a')\n",
    "    f.write(f\"tweet_id\\tlabel\\n\")\n",
    "    for i in trange(len(predictions)):\n",
    "        i_d = test_dataset.data['tweet_id'].iloc[i]\n",
    "#         text = test_dataset.data['text'].iloc[i]\n",
    "        label = int(predictions[i])\n",
    "\n",
    "        f.write(f\"{i_d}\\t{label}\\n\")"
   ]
  },
  {
   "cell_type": "code",
   "execution_count": null,
   "id": "79268223",
   "metadata": {},
   "outputs": [],
   "source": []
  }
 ],
 "metadata": {
  "kernelspec": {
   "display_name": "Python 3",
   "language": "python",
   "name": "python3"
  },
  "language_info": {
   "codemirror_mode": {
    "name": "ipython",
    "version": 3
   },
   "file_extension": ".py",
   "mimetype": "text/x-python",
   "name": "python",
   "nbconvert_exporter": "python",
   "pygments_lexer": "ipython3",
   "version": "3.7.4"
  }
 },
 "nbformat": 4,
 "nbformat_minor": 5
}
