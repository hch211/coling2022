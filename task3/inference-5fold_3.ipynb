{
 "cells": [
  {
   "cell_type": "code",
   "execution_count": 1,
   "id": "ba652f2a",
   "metadata": {},
   "outputs": [
    {
     "name": "stdout",
     "output_type": "stream",
     "text": [
      "The test data length:  157\n"
     ]
    },
    {
     "name": "stderr",
     "output_type": "stream",
     "text": [
      "Some weights of the model checkpoint at digitalepidemiologylab/covid-twitter-bert were not used when initializing BertModel: ['cls.predictions.transform.LayerNorm.weight', 'cls.seq_relationship.weight', 'cls.predictions.transform.LayerNorm.bias', 'cls.predictions.decoder.weight', 'cls.predictions.bias', 'cls.seq_relationship.bias', 'cls.predictions.transform.dense.weight', 'cls.predictions.decoder.bias', 'cls.predictions.transform.dense.bias']\n",
      "- This IS expected if you are initializing BertModel from the checkpoint of a model trained on another task or with another architecture (e.g. initializing a BertForSequenceClassification model from a BertForPreTraining model).\n",
      "- This IS NOT expected if you are initializing BertModel from the checkpoint of a model that you expect to be exactly identical (initializing a BertForSequenceClassification model from a BertForSequenceClassification model).\n"
     ]
    },
    {
     "name": "stdout",
     "output_type": "stream",
     "text": [
      "The epoch 2 and the best mean f1 0.8213 of the validation set.\n"
     ]
    },
    {
     "name": "stderr",
     "output_type": "stream",
     "text": [
      "Evaluating:   0%|          | 0/157 [00:00<?, ?it/s]/home/huangchenghao/coling2022/task2/task2/src/models/finetune.py:86: UserWarning: Implicit dimension choice for softmax has been deprecated. Change the call to include dim=X as an argument.\n",
      "  probability = nn.functional.softmax(logits)\n",
      "Evaluating: 100%|██████████| 157/157 [01:11<00:00,  2.20it/s]\n",
      "Some weights of the model checkpoint at digitalepidemiologylab/covid-twitter-bert were not used when initializing BertModel: ['cls.predictions.transform.LayerNorm.weight', 'cls.seq_relationship.weight', 'cls.predictions.transform.LayerNorm.bias', 'cls.predictions.decoder.weight', 'cls.predictions.bias', 'cls.seq_relationship.bias', 'cls.predictions.transform.dense.weight', 'cls.predictions.decoder.bias', 'cls.predictions.transform.dense.bias']\n",
      "- This IS expected if you are initializing BertModel from the checkpoint of a model trained on another task or with another architecture (e.g. initializing a BertForSequenceClassification model from a BertForPreTraining model).\n",
      "- This IS NOT expected if you are initializing BertModel from the checkpoint of a model that you expect to be exactly identical (initializing a BertForSequenceClassification model from a BertForSequenceClassification model).\n"
     ]
    },
    {
     "name": "stdout",
     "output_type": "stream",
     "text": [
      "The epoch 1 and the best mean f1 0.8983 of the validation set.\n"
     ]
    },
    {
     "name": "stderr",
     "output_type": "stream",
     "text": [
      "Evaluating: 100%|██████████| 157/157 [01:13<00:00,  2.15it/s]\n",
      "Some weights of the model checkpoint at digitalepidemiologylab/covid-twitter-bert were not used when initializing BertModel: ['cls.predictions.transform.LayerNorm.weight', 'cls.seq_relationship.weight', 'cls.predictions.transform.LayerNorm.bias', 'cls.predictions.decoder.weight', 'cls.predictions.bias', 'cls.seq_relationship.bias', 'cls.predictions.transform.dense.weight', 'cls.predictions.decoder.bias', 'cls.predictions.transform.dense.bias']\n",
      "- This IS expected if you are initializing BertModel from the checkpoint of a model trained on another task or with another architecture (e.g. initializing a BertForSequenceClassification model from a BertForPreTraining model).\n",
      "- This IS NOT expected if you are initializing BertModel from the checkpoint of a model that you expect to be exactly identical (initializing a BertForSequenceClassification model from a BertForSequenceClassification model).\n"
     ]
    },
    {
     "name": "stdout",
     "output_type": "stream",
     "text": [
      "The epoch 2 and the best mean f1 0.9563 of the validation set.\n"
     ]
    },
    {
     "name": "stderr",
     "output_type": "stream",
     "text": [
      "Evaluating: 100%|██████████| 157/157 [01:13<00:00,  2.13it/s]\n",
      "Some weights of the model checkpoint at digitalepidemiologylab/covid-twitter-bert were not used when initializing BertModel: ['cls.predictions.transform.LayerNorm.weight', 'cls.seq_relationship.weight', 'cls.predictions.transform.LayerNorm.bias', 'cls.predictions.decoder.weight', 'cls.predictions.bias', 'cls.seq_relationship.bias', 'cls.predictions.transform.dense.weight', 'cls.predictions.decoder.bias', 'cls.predictions.transform.dense.bias']\n",
      "- This IS expected if you are initializing BertModel from the checkpoint of a model trained on another task or with another architecture (e.g. initializing a BertForSequenceClassification model from a BertForPreTraining model).\n",
      "- This IS NOT expected if you are initializing BertModel from the checkpoint of a model that you expect to be exactly identical (initializing a BertForSequenceClassification model from a BertForSequenceClassification model).\n"
     ]
    },
    {
     "name": "stdout",
     "output_type": "stream",
     "text": [
      "The epoch 3 and the best mean f1 0.9567 of the validation set.\n"
     ]
    },
    {
     "name": "stderr",
     "output_type": "stream",
     "text": [
      "Evaluating: 100%|██████████| 157/157 [01:14<00:00,  2.12it/s]\n",
      "Some weights of the model checkpoint at digitalepidemiologylab/covid-twitter-bert were not used when initializing BertModel: ['cls.predictions.transform.LayerNorm.weight', 'cls.seq_relationship.weight', 'cls.predictions.transform.LayerNorm.bias', 'cls.predictions.decoder.weight', 'cls.predictions.bias', 'cls.seq_relationship.bias', 'cls.predictions.transform.dense.weight', 'cls.predictions.decoder.bias', 'cls.predictions.transform.dense.bias']\n",
      "- This IS expected if you are initializing BertModel from the checkpoint of a model trained on another task or with another architecture (e.g. initializing a BertForSequenceClassification model from a BertForPreTraining model).\n",
      "- This IS NOT expected if you are initializing BertModel from the checkpoint of a model that you expect to be exactly identical (initializing a BertForSequenceClassification model from a BertForSequenceClassification model).\n"
     ]
    },
    {
     "name": "stdout",
     "output_type": "stream",
     "text": [
      "The epoch 1 and the best mean f1 0.9349 of the validation set.\n"
     ]
    },
    {
     "name": "stderr",
     "output_type": "stream",
     "text": [
      "Evaluating: 100%|██████████| 157/157 [01:14<00:00,  2.11it/s]\n"
     ]
    },
    {
     "name": "stdout",
     "output_type": "stream",
     "text": [
      "task b\n"
     ]
    },
    {
     "name": "stderr",
     "output_type": "stream",
     "text": [
      "100%|██████████| 10000/10000 [00:00<00:00, 33068.98it/s]\n"
     ]
    }
   ],
   "source": [
    "from src.models import FtModel\n",
    "from src.config import parse_args\n",
    "from src.dataset import FinetuneDataset\n",
    "from src.utils import *\n",
    "\n",
    "from torch.utils.data import DataLoader, Dataset, RandomSampler, SequentialSampler, Subset, WeightedRandomSampler\n",
    "import os\n",
    "from tqdm import tqdm,trange\n",
    "import pandas as pd\n",
    "import torch\n",
    "import sys\n",
    "import gc\n",
    "\n",
    "args = parse_args()\n",
    "\n",
    "args.gpu_ids='1'\n",
    "args.bert_seq_length=128\n",
    "args.ema_start=0\n",
    "args.ema_decay=0.99\n",
    "args.result_file=\"stance_result.tsv\"\n",
    "args.bert_dir='digitalepidemiologylab/covid-twitter-bert'\n",
    "\n",
    "# args.gpu_ids='1'\n",
    "# args.bert_seq_length=128\n",
    "# args.ema_start=0\n",
    "# args.ema_decay=0.99\n",
    "# args.result_file=\"premise_result.tsv\"\n",
    "# args.bert_dir='digitalepidemiologylab/covid-twitter-bert'\n",
    "# args.premise=True\n",
    "\n",
    "os.environ['CUDA_VISIBLE_DEVICES'] = args.gpu_ids\n",
    "setup_device(args)\n",
    "setup_seed(args)\n",
    "test_dataset = FinetuneDataset(args, args.test_path, True)\n",
    "test_sampler = SequentialSampler(test_dataset)\n",
    "test_dataloader = DataLoader(test_dataset,\n",
    "                                batch_size=args.val_batch_size,\n",
    "                                sampler=test_sampler,\n",
    "                                drop_last=False,\n",
    "                                pin_memory=True)\n",
    "print('The test data length: ',len(test_dataloader))\n",
    "\n",
    "# task a \n",
    "\n",
    "ckpoint_list = ['data/checkpoint/fold0/model_epoch_3_f1_0.8361_700.bin',\n",
    "                'data/checkpoint/fold1/model_epoch_2_f1_0.8184_600.bin',\n",
    "                'data/checkpoint/fold2/model_epoch_2_f1_0.8113_500.bin',\n",
    "                'data/checkpoint/fold3/model_epoch_5_f1_0.8075_1242.bin',\n",
    "                'data/checkpoint/fold4/model_epoch_2_f1_0.8517_500.bin']\n",
    "\n",
    "\n",
    "#task b\n",
    "# ckpoint_list = ['data/checkpoint/fold0/model_epoch_2_f1_0.8213_1500.bin',\n",
    "#                 'data/checkpoint/fold1/model_epoch_1_f1_0.8983_800.bin',\n",
    "#                 'data/checkpoint/fold2/model_epoch_2_f1_0.9563_2000.bin',\n",
    "#                 'data/checkpoint/fold3/model_epoch_3_f1_0.9567_2600.bin',\n",
    "#                 'data/checkpoint/fold4/model_epoch_1_f1_0.9349_900.bin']\n",
    "\n",
    "for i in range(5):\n",
    "    probabilities = None\n",
    "    model = FtModel(args).to(args.device)\n",
    "    ckpoint = torch.load(ckpoint_list[i])\n",
    "    model.load_state_dict(ckpoint['model_state_dict'])\n",
    "    print(\"The epoch {} and the best mean f1 {:.4f} of the validation set.\".format(ckpoint['epoch'],ckpoint['mean_f1']))\n",
    "\n",
    "    if args.ema_start >= 0:\n",
    "        ema = EMA(model, args.ema_decay)\n",
    "        ema.resume(ckpoint['shadow'][0], ckpoint['backup'][0])\n",
    "        # ema.shadow = \n",
    "        ema.apply_shadow()\n",
    "\n",
    "    model.eval()\n",
    "    predictions = []\n",
    "    with torch.no_grad():\n",
    "        for step, batch in enumerate(tqdm(test_dataloader,desc=\"Evaluating\")):\n",
    "            for k in batch:\n",
    "                batch[k] = batch[k].cuda()\n",
    "            if probabilities == None:\n",
    "                probabilities = model(batch,True)\n",
    "            else:\n",
    "                probabilities = torch.cat([probabilities,model(batch,True)])\n",
    "    if i == 0:\n",
    "        probability = probabilities\n",
    "    else:\n",
    "        probability += probabilities\n",
    "        \n",
    "#     del model\n",
    "#     del ckpoint\n",
    "#     del ema\n",
    "#     gc.collect()\n",
    "        \n",
    "pred_label_id = torch.argmax(probabilities/5, dim=1)\n",
    "predictions.extend(pred_label_id.cpu().numpy())\n",
    "\n",
    "with open(f\"data/{args.result_file}\",\"w+\") as f:\n",
    "    if args.premise:\n",
    "        print('task b')\n",
    "        f.write(f\"id\\ttext\\tClaim\\tPremise\\n\")\n",
    "    else:\n",
    "        print('task a')\n",
    "        f.write(f\"id\\ttext\\tClaim\\tStance\\n\")\n",
    "    for i in trange(len(predictions)):\n",
    "        i_d = test_dataset.data['id'].iloc[i]\n",
    "#         text = test_dataset.data['text'].iloc[i]\n",
    "#         claim = test_dataset.data['claim'].iloc[i]\n",
    "        if args.premise:\n",
    "            label = int(predictions[i])\n",
    "        else:\n",
    "            label = test_dataset.label2stance[str(int(predictions[i]))]\n",
    "        # label = int(predictions[i])\n",
    "\n",
    "        f.write(f\"{i_d}\\t{label}\\n\")"
   ]
  },
  {
   "cell_type": "code",
   "execution_count": null,
   "id": "efd49936",
   "metadata": {},
   "outputs": [],
   "source": []
  }
 ],
 "metadata": {
  "kernelspec": {
   "display_name": "Python 3",
   "language": "python",
   "name": "python3"
  },
  "language_info": {
   "codemirror_mode": {
    "name": "ipython",
    "version": 3
   },
   "file_extension": ".py",
   "mimetype": "text/x-python",
   "name": "python",
   "nbconvert_exporter": "python",
   "pygments_lexer": "ipython3",
   "version": "3.7.4"
  }
 },
 "nbformat": 4,
 "nbformat_minor": 5
}
