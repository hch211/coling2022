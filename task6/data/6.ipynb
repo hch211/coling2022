{
 "cells": [
  {
   "cell_type": "code",
   "execution_count": 2,
   "id": "37b33d58",
   "metadata": {},
   "outputs": [],
   "source": [
    "import pandas as pd"
   ]
  },
  {
   "cell_type": "code",
   "execution_count": 3,
   "id": "89024728",
   "metadata": {},
   "outputs": [
    {
     "data": {
      "text/plain": [
       "array(['Vaccine_chatter', 'Self_reports'], dtype=object)"
      ]
     },
     "execution_count": 3,
     "metadata": {},
     "output_type": "execute_result"
    }
   ],
   "source": [
    "train = pd.read_csv('task6_train_user_wlabel.tsv', sep='\\t')\n",
    "valid = pd.read_csv('task6_validation_user_NOlabel.tsv', sep='\\t')\n",
    "test = pd.read_csv('task6_test_user_NOlabel.tsv', sep='\\t')\n",
    "result = pd.read_csv('result.tsv', sep='\\t')\n",
    "train.label.unique()"
   ]
  },
  {
   "cell_type": "code",
   "execution_count": 4,
   "id": "f9ad6e6a",
   "metadata": {},
   "outputs": [
    {
     "data": {
      "text/plain": [
       "Vaccine_chatter    12197\n",
       "Self_reports        1495\n",
       "Name: label, dtype: int64"
      ]
     },
     "execution_count": 4,
     "metadata": {},
     "output_type": "execute_result"
    }
   ],
   "source": [
    "train.label.value_counts()"
   ]
  },
  {
   "cell_type": "code",
   "execution_count": 3,
   "id": "33919a89",
   "metadata": {},
   "outputs": [
    {
     "data": {
      "text/html": [
       "<div>\n",
       "<style scoped>\n",
       "    .dataframe tbody tr th:only-of-type {\n",
       "        vertical-align: middle;\n",
       "    }\n",
       "\n",
       "    .dataframe tbody tr th {\n",
       "        vertical-align: top;\n",
       "    }\n",
       "\n",
       "    .dataframe thead th {\n",
       "        text-align: right;\n",
       "    }\n",
       "</style>\n",
       "<table border=\"1\" class=\"dataframe\">\n",
       "  <thead>\n",
       "    <tr style=\"text-align: right;\">\n",
       "      <th></th>\n",
       "      <th>tweet_id</th>\n",
       "      <th>tweet_text</th>\n",
       "    </tr>\n",
       "  </thead>\n",
       "  <tbody>\n",
       "    <tr>\n",
       "      <th>0</th>\n",
       "      <td>107301</td>\n",
       "      <td>Given that the average survival rate to this v...</td>\n",
       "    </tr>\n",
       "    <tr>\n",
       "      <th>1</th>\n",
       "      <td>105412</td>\n",
       "      <td>@FrDaveNix I hear belief in the virus will be ...</td>\n",
       "    </tr>\n",
       "    <tr>\n",
       "      <th>2</th>\n",
       "      <td>201657</td>\n",
       "      <td>The CDC recommends receiving your second COVID...</td>\n",
       "    </tr>\n",
       "    <tr>\n",
       "      <th>3</th>\n",
       "      <td>107587</td>\n",
       "      <td>Just in case you’re wondering. I’m never havin...</td>\n",
       "    </tr>\n",
       "    <tr>\n",
       "      <th>4</th>\n",
       "      <td>106375</td>\n",
       "      <td>@EssexPR @sailorrooscout This is very strange ...</td>\n",
       "    </tr>\n",
       "    <tr>\n",
       "      <th>...</th>\n",
       "      <td>...</td>\n",
       "      <td>...</td>\n",
       "    </tr>\n",
       "    <tr>\n",
       "      <th>8700</th>\n",
       "      <td>110109</td>\n",
       "      <td>Why does J&amp;amp;J need to repeat every day how ...</td>\n",
       "    </tr>\n",
       "    <tr>\n",
       "      <th>8701</th>\n",
       "      <td>112348</td>\n",
       "      <td>If anyone has any doubt about how effective th...</td>\n",
       "    </tr>\n",
       "    <tr>\n",
       "      <th>8702</th>\n",
       "      <td>109363</td>\n",
       "      <td>Good explanation of why this is NOT a conspira...</td>\n",
       "    </tr>\n",
       "    <tr>\n",
       "      <th>8703</th>\n",
       "      <td>201848</td>\n",
       "      <td>Yesterday, I received my first dose of the Pfi...</td>\n",
       "    </tr>\n",
       "    <tr>\n",
       "      <th>8704</th>\n",
       "      <td>109268</td>\n",
       "      <td>So the Science Minister doesn't know if CSL ac...</td>\n",
       "    </tr>\n",
       "  </tbody>\n",
       "</table>\n",
       "<p>8705 rows × 2 columns</p>\n",
       "</div>"
      ],
      "text/plain": [
       "      tweet_id                                         tweet_text\n",
       "0       107301  Given that the average survival rate to this v...\n",
       "1       105412  @FrDaveNix I hear belief in the virus will be ...\n",
       "2       201657  The CDC recommends receiving your second COVID...\n",
       "3       107587  Just in case you’re wondering. I’m never havin...\n",
       "4       106375  @EssexPR @sailorrooscout This is very strange ...\n",
       "...        ...                                                ...\n",
       "8700    110109  Why does J&amp;J need to repeat every day how ...\n",
       "8701    112348  If anyone has any doubt about how effective th...\n",
       "8702    109363  Good explanation of why this is NOT a conspira...\n",
       "8703    201848  Yesterday, I received my first dose of the Pfi...\n",
       "8704    109268  So the Science Minister doesn't know if CSL ac...\n",
       "\n",
       "[8705 rows x 2 columns]"
      ]
     },
     "execution_count": 3,
     "metadata": {},
     "output_type": "execute_result"
    }
   ],
   "source": [
    "pd.concat([valid,test]).to_csv('test.tsv', sep='\\t')\n",
    "test = pd.read_csv('test.tsv', sep='\\t')\n",
    "test = test.drop('Unnamed: 0',axis=1)\n",
    "test"
   ]
  },
  {
   "cell_type": "markdown",
   "id": "9869ff29",
   "metadata": {},
   "source": [
    "# 5 fold"
   ]
  },
  {
   "cell_type": "code",
   "execution_count": 5,
   "id": "23a8f112",
   "metadata": {},
   "outputs": [],
   "source": [
    "size = len(train.label)\n",
    "for i in range(5):\n",
    "    train[int(i*0.2*size):int((i+1)*0.2*size)].to_csv('validation_{}.tsv'.format(i), sep='\\t')\n",
    "    train.drop(list(range(int(i*0.2*size),int((i+1)*0.2*size)))).to_csv('train_{}.tsv'.format(i), sep='\\t')"
   ]
  },
  {
   "cell_type": "markdown",
   "id": "67020ac2",
   "metadata": {},
   "source": [
    "# pseudo"
   ]
  },
  {
   "cell_type": "code",
   "execution_count": 5,
   "id": "f3b4f84b",
   "metadata": {},
   "outputs": [
    {
     "data": {
      "text/html": [
       "<div>\n",
       "<style scoped>\n",
       "    .dataframe tbody tr th:only-of-type {\n",
       "        vertical-align: middle;\n",
       "    }\n",
       "\n",
       "    .dataframe tbody tr th {\n",
       "        vertical-align: top;\n",
       "    }\n",
       "\n",
       "    .dataframe thead th {\n",
       "        text-align: right;\n",
       "    }\n",
       "</style>\n",
       "<table border=\"1\" class=\"dataframe\">\n",
       "  <thead>\n",
       "    <tr style=\"text-align: right;\">\n",
       "      <th></th>\n",
       "      <th>tweet_id</th>\n",
       "      <th>tweet_text</th>\n",
       "      <th>label</th>\n",
       "    </tr>\n",
       "  </thead>\n",
       "  <tbody>\n",
       "    <tr>\n",
       "      <th>5195</th>\n",
       "      <td>102346</td>\n",
       "      <td>When you think about the target, it really doe...</td>\n",
       "      <td>Vaccine_chatter</td>\n",
       "    </tr>\n",
       "    <tr>\n",
       "      <th>4095</th>\n",
       "      <td>111470</td>\n",
       "      <td>Yup. And it isnt gonna happen. They're gonna w...</td>\n",
       "      <td>Vaccine_chatter</td>\n",
       "    </tr>\n",
       "    <tr>\n",
       "      <th>1775</th>\n",
       "      <td>110782</td>\n",
       "      <td>We’re in Tooth Fairy territory here.• We know ...</td>\n",
       "      <td>Vaccine_chatter</td>\n",
       "    </tr>\n",
       "    <tr>\n",
       "      <th>11958</th>\n",
       "      <td>100094</td>\n",
       "      <td>Re vaccines, you should be reassuring Canadian...</td>\n",
       "      <td>Vaccine_chatter</td>\n",
       "    </tr>\n",
       "    <tr>\n",
       "      <th>3792</th>\n",
       "      <td>200321</td>\n",
       "      <td>I’m effing tired of being held hostage and hav...</td>\n",
       "      <td>Self_reports</td>\n",
       "    </tr>\n",
       "    <tr>\n",
       "      <th>...</th>\n",
       "      <td>...</td>\n",
       "      <td>...</td>\n",
       "      <td>...</td>\n",
       "    </tr>\n",
       "    <tr>\n",
       "      <th>4590</th>\n",
       "      <td>108401</td>\n",
       "      <td>@KevinGillman Covid-19 may mutate, but it need...</td>\n",
       "      <td>Vaccine_chatter</td>\n",
       "    </tr>\n",
       "    <tr>\n",
       "      <th>6844</th>\n",
       "      <td>102052</td>\n",
       "      <td>This covid19 (CON VID19) vaccine is just like ...</td>\n",
       "      <td>Vaccine_chatter</td>\n",
       "    </tr>\n",
       "    <tr>\n",
       "      <th>13030</th>\n",
       "      <td>110681</td>\n",
       "      <td>** PUBIC ANNOUNCEMENT **Just yesterday the hos...</td>\n",
       "      <td>Vaccine_chatter</td>\n",
       "    </tr>\n",
       "    <tr>\n",
       "      <th>4406</th>\n",
       "      <td>201856</td>\n",
       "      <td>Great listen! The conversation around #vaccine...</td>\n",
       "      <td>Self_reports</td>\n",
       "    </tr>\n",
       "    <tr>\n",
       "      <th>3239</th>\n",
       "      <td>100016</td>\n",
       "      <td>I want to believe that the vaccine is effectiv...</td>\n",
       "      <td>Vaccine_chatter</td>\n",
       "    </tr>\n",
       "  </tbody>\n",
       "</table>\n",
       "<p>19614 rows × 3 columns</p>\n",
       "</div>"
      ],
      "text/plain": [
       "       tweet_id                                         tweet_text  \\\n",
       "5195     102346  When you think about the target, it really doe...   \n",
       "4095     111470  Yup. And it isnt gonna happen. They're gonna w...   \n",
       "1775     110782  We’re in Tooth Fairy territory here.• We know ...   \n",
       "11958    100094  Re vaccines, you should be reassuring Canadian...   \n",
       "3792     200321  I’m effing tired of being held hostage and hav...   \n",
       "...         ...                                                ...   \n",
       "4590     108401  @KevinGillman Covid-19 may mutate, but it need...   \n",
       "6844     102052  This covid19 (CON VID19) vaccine is just like ...   \n",
       "13030    110681  ** PUBIC ANNOUNCEMENT **Just yesterday the hos...   \n",
       "4406     201856  Great listen! The conversation around #vaccine...   \n",
       "3239     100016  I want to believe that the vaccine is effectiv...   \n",
       "\n",
       "                 label  \n",
       "5195   Vaccine_chatter  \n",
       "4095   Vaccine_chatter  \n",
       "1775   Vaccine_chatter  \n",
       "11958  Vaccine_chatter  \n",
       "3792      Self_reports  \n",
       "...                ...  \n",
       "4590   Vaccine_chatter  \n",
       "6844   Vaccine_chatter  \n",
       "13030  Vaccine_chatter  \n",
       "4406      Self_reports  \n",
       "3239   Vaccine_chatter  \n",
       "\n",
       "[19614 rows x 3 columns]"
      ]
     },
     "execution_count": 5,
     "metadata": {},
     "output_type": "execute_result"
    }
   ],
   "source": [
    "pred = pd.read_csv('result.tsv', sep='\\t')\n",
    "pred = pd.merge(test,pred, how='left')\n",
    "pseudo = pd.concat([pred,train]).sample(frac=1)\n",
    "pseudo"
   ]
  },
  {
   "cell_type": "code",
   "execution_count": 6,
   "id": "bdab6ef6",
   "metadata": {},
   "outputs": [],
   "source": [
    "pseudo.to_csv('pseudo.tsv', sep='\\t')\n",
    "pseudo = pd.read_csv('pseudo.tsv', sep='\\t')\n",
    "pseudo = pseudo.drop('Unnamed: 0',axis=1)"
   ]
  },
  {
   "cell_type": "code",
   "execution_count": 7,
   "id": "c6a77732",
   "metadata": {},
   "outputs": [],
   "source": [
    "size = len(pseudo.label)\n",
    "for i in range(5):\n",
    "    pseudo[int(i*0.2*size):int((i+1)*0.2*size)].to_csv('validation_{}.tsv'.format(i), sep='\\t')\n",
    "    pseudo.drop(list(range(int(i*0.2*size),int((i+1)*0.2*size)))).to_csv('train_{}.tsv'.format(i), sep='\\t')"
   ]
  },
  {
   "cell_type": "code",
   "execution_count": null,
   "id": "390e1b1a",
   "metadata": {},
   "outputs": [],
   "source": []
  }
 ],
 "metadata": {
  "kernelspec": {
   "display_name": "Python 3 (ipykernel)",
   "language": "python",
   "name": "python3"
  },
  "language_info": {
   "codemirror_mode": {
    "name": "ipython",
    "version": 3
   },
   "file_extension": ".py",
   "mimetype": "text/x-python",
   "name": "python",
   "nbconvert_exporter": "python",
   "pygments_lexer": "ipython3",
   "version": "3.7.4"
  }
 },
 "nbformat": 4,
 "nbformat_minor": 5
}
