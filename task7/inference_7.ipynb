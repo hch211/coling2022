{
 "cells": [
  {
   "cell_type": "code",
   "execution_count": 1,
   "id": "b5158c40",
   "metadata": {},
   "outputs": [],
   "source": [
    "from src.models import FtModel\n",
    "from src.config import parse_args\n",
    "from src.dataset import FinetuneDataset\n",
    "from src.utils import *\n",
    "\n",
    "from torch.utils.data import DataLoader, Dataset, RandomSampler, SequentialSampler, Subset, WeightedRandomSampler\n",
    "import os\n",
    "from tqdm import tqdm,trange\n",
    "import pandas as pd\n",
    "import torch\n",
    "\n",
    "def inference():\n",
    "    args = parse_args()\n",
    "    args.gpu_ids='1'\n",
    "    args.bert_seq_length=128\n",
    "    args.ckpt_file=\"data/checkpoint/model_epoch_3_f1_0.9058_1000.bin\"\n",
    "    args.ema_start=0\n",
    "    args.ema_decay=0.99\n",
    "    args.result_file=\"result.tsv\"\n",
    "    args.bert_dir='digitalepidemiologylab/covid-twitter-bert'\n",
    "\n",
    "    \n",
    "    os.environ['CUDA_VISIBLE_DEVICES'] = args.gpu_ids\n",
    "    setup_device(args)\n",
    "    setup_seed(args)\n",
    "    test_dataset = FinetuneDataset(args, args.test_path, True)\n",
    "    test_sampler = SequentialSampler(test_dataset)\n",
    "    test_dataloader = DataLoader(test_dataset,\n",
    "                                    batch_size=args.val_batch_size,\n",
    "                                    sampler=test_sampler,\n",
    "                                    drop_last=False,\n",
    "                                    pin_memory=True)\n",
    "    \n",
    "    print('The test data length: ',len(test_dataloader))\n",
    "    model = FtModel(args)\n",
    "    model = model.to(args.device)\n",
    "    if args.distributed_train:\n",
    "        model = torch.nn.parallel.DataParallel(model)\n",
    "    ckpoint = torch.load(args.ckpt_file)\n",
    "    model.load_state_dict(ckpoint['model_state_dict'])\n",
    "    print(\"The epoch {} and the best mean f1 {:.4f} of the validation set.\".format(ckpoint['epoch'],ckpoint['mean_f1']))\n",
    "    \n",
    "    if args.ema_start >= 0:\n",
    "        ema = EMA(model, args.ema_decay)\n",
    "        ema.resume(ckpoint['shadow'][0], ckpoint['backup'][0])\n",
    "        # ema.shadow = \n",
    "        ema.apply_shadow()\n",
    "    \n",
    "    model.eval()\n",
    "    predictions = []\n",
    "    with torch.no_grad():\n",
    "        for step, batch in enumerate(tqdm(test_dataloader,desc=\"Evaluating\")):\n",
    "            for k in batch:\n",
    "                batch[k] = batch[k].cuda()\n",
    "\n",
    "            probability = model(batch,True)\n",
    "            pred_label_id = torch.argmax(probability, dim=1)\n",
    "            predictions.extend(pred_label_id.cpu().numpy())\n",
    "    with open(f\"data/{args.result_file}\",\"w+\") as f:\n",
    "        print('task')\n",
    "        f.write(f\"tweet_id\\tlabel\\n\")\n",
    "        for i in trange(len(predictions)):\n",
    "            i_d = test_dataset.data['tweet_id'].iloc[i]\n",
    "#             text = test_dataset.data['text'].iloc[i]\n",
    "            label = int(predictions[i])\n",
    "            \n",
    "            f.write(f\"{i_d}\\t{label}\\n\")"
   ]
  },
  {
   "cell_type": "code",
   "execution_count": 2,
   "id": "6518d358",
   "metadata": {},
   "outputs": [
    {
     "name": "stdout",
     "output_type": "stream",
     "text": [
      "The test data length:  21\n"
     ]
    },
    {
     "name": "stderr",
     "output_type": "stream",
     "text": [
      "Some weights of the model checkpoint at digitalepidemiologylab/covid-twitter-bert were not used when initializing BertModel: ['cls.predictions.transform.dense.bias', 'cls.predictions.bias', 'cls.seq_relationship.weight', 'cls.predictions.transform.LayerNorm.bias', 'cls.predictions.decoder.bias', 'cls.seq_relationship.bias', 'cls.predictions.decoder.weight', 'cls.predictions.transform.dense.weight', 'cls.predictions.transform.LayerNorm.weight']\n",
      "- This IS expected if you are initializing BertModel from the checkpoint of a model trained on another task or with another architecture (e.g. initializing a BertForSequenceClassification model from a BertForPreTraining model).\n",
      "- This IS NOT expected if you are initializing BertModel from the checkpoint of a model that you expect to be exactly identical (initializing a BertForSequenceClassification model from a BertForSequenceClassification model).\n"
     ]
    },
    {
     "name": "stdout",
     "output_type": "stream",
     "text": [
      "The epoch 3 and the best mean f1 0.9058 of the validation set.\n"
     ]
    },
    {
     "name": "stderr",
     "output_type": "stream",
     "text": [
      "Evaluating:   0%|          | 0/21 [00:00<?, ?it/s]/home/huangchenghao/coling2022/task7/src/models/finetune.py:84: UserWarning: Implicit dimension choice for softmax has been deprecated. Change the call to include dim=X as an argument.\n",
      "  probability = nn.functional.softmax(logits)\n",
      "Evaluating: 100%|██████████| 21/21 [00:09<00:00,  2.21it/s]\n"
     ]
    },
    {
     "name": "stdout",
     "output_type": "stream",
     "text": [
      "task\n"
     ]
    },
    {
     "name": "stderr",
     "output_type": "stream",
     "text": [
      "100%|██████████| 1291/1291 [00:00<00:00, 80778.82it/s]\n"
     ]
    }
   ],
   "source": [
    "inference()"
   ]
  },
  {
   "cell_type": "code",
   "execution_count": null,
   "id": "3160f0bd",
   "metadata": {},
   "outputs": [],
   "source": []
  }
 ],
 "metadata": {
  "kernelspec": {
   "display_name": "Python 3 (ipykernel)",
   "language": "python",
   "name": "python3"
  },
  "language_info": {
   "codemirror_mode": {
    "name": "ipython",
    "version": 3
   },
   "file_extension": ".py",
   "mimetype": "text/x-python",
   "name": "python",
   "nbconvert_exporter": "python",
   "pygments_lexer": "ipython3",
   "version": "3.7.4"
  }
 },
 "nbformat": 4,
 "nbformat_minor": 5
}
