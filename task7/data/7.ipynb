{
 "cells": [
  {
   "cell_type": "code",
   "execution_count": 15,
   "id": "3e39799e",
   "metadata": {},
   "outputs": [],
   "source": [
    "import pandas as pd\n",
    "import csv"
   ]
  },
  {
   "cell_type": "code",
   "execution_count": 16,
   "id": "1dda0348",
   "metadata": {},
   "outputs": [
    {
     "data": {
      "text/html": [
       "<div>\n",
       "<style scoped>\n",
       "    .dataframe tbody tr th:only-of-type {\n",
       "        vertical-align: middle;\n",
       "    }\n",
       "\n",
       "    .dataframe tbody tr th {\n",
       "        vertical-align: top;\n",
       "    }\n",
       "\n",
       "    .dataframe thead th {\n",
       "        text-align: right;\n",
       "    }\n",
       "</style>\n",
       "<table border=\"1\" class=\"dataframe\">\n",
       "  <thead>\n",
       "    <tr style=\"text-align: right;\">\n",
       "      <th></th>\n",
       "      <th>tweet_id</th>\n",
       "      <th>text</th>\n",
       "      <th>label</th>\n",
       "    </tr>\n",
       "  </thead>\n",
       "  <tbody>\n",
       "    <tr>\n",
       "      <th>0</th>\n",
       "      <td>1280721501034098688</td>\n",
       "      <td>@Turtainum @disitinerant @Benjaminlfranks @terrycrews Police patrols go where there's crime. My neighborhood falls in the largest geographical zone for my police dept &amp;amp; we have the least officers...because there aren't shootings here nearly every night like the south zone or domestic violenc...</td>\n",
       "      <td>0</td>\n",
       "    </tr>\n",
       "    <tr>\n",
       "      <th>1</th>\n",
       "      <td>1343658638842490880</td>\n",
       "      <td>I had 3 men try to bully me into giving them services today... at a domestic violence legal clinic 🙃</td>\n",
       "      <td>0</td>\n",
       "    </tr>\n",
       "    <tr>\n",
       "      <th>2</th>\n",
       "      <td>1246142231548813317</td>\n",
       "      <td>Protect the children\\n\\nParents should protect the children\\n\\nLove the children sincerely\\n\\nViolence is not good\\n\\nLove my child from my heart\\n\\nDomestic violence stop it\\n\\nLove children from love</td>\n",
       "      <td>0</td>\n",
       "    </tr>\n",
       "    <tr>\n",
       "      <th>3</th>\n",
       "      <td>1291062414528544774</td>\n",
       "      <td>@yoongizell Oh yeah! As a survivor of domestic violence it was not like that for me you know? It was a cathartic experience. Believe it or not, I was sent death threats for liking Yoonbum and Sangwoo together! I wrote fanfiction about it. If it makes you happier to not touch it, that's fine!</td>\n",
       "      <td>0</td>\n",
       "    </tr>\n",
       "    <tr>\n",
       "      <th>4</th>\n",
       "      <td>1268650245967282178</td>\n",
       "      <td>@q_4_liberty @Project_Veritas i can see that, and i do agree there needs to be something in place to help  the vulnerable. however, on average, cops have been listed as some of the greatest threats to the most vulnerable people in society. cops also have a 30% higher domestic violence rates than...</td>\n",
       "      <td>0</td>\n",
       "    </tr>\n",
       "    <tr>\n",
       "      <th>5</th>\n",
       "      <td>1273919606319529990</td>\n",
       "      <td>@PArfectSHot @yogioabs where do I see inequality? okay nice one.\\ndespite of there being so many laws against sexual harassment, rape and domestic violence, women are still raped ever 20 mins. 550,000 girls went missing in 2018 due to female foeticide. aur bolun?</td>\n",
       "      <td>0</td>\n",
       "    </tr>\n",
       "    <tr>\n",
       "      <th>6</th>\n",
       "      <td>1252024862299885568</td>\n",
       "      <td>@heraldscotland You know being a victim of mny types most probably all abuse throughout my childhood years sexual abuse aged about 9 raped at 14then phsyclogically, mentally and emotionally by my ex partner of 15 years even now i struggle to put a normal convo 2gethr without sounding crazy,</td>\n",
       "      <td>1</td>\n",
       "    </tr>\n",
       "    <tr>\n",
       "      <th>7</th>\n",
       "      <td>1339618398842531842</td>\n",
       "      <td>It's also an eerily similar discourse to when you trt to persuade a person whose partner is violent towards them that they should leave them. \"But he's all I got, and he loves me, how can I leave?!? YOU want to harm our love because you're jealous!!! etc\"</td>\n",
       "      <td>0</td>\n",
       "    </tr>\n",
       "    <tr>\n",
       "      <th>8</th>\n",
       "      <td>1336940059921100800</td>\n",
       "      <td>@GovSamuelOrtom  No Point talking about Domestic violence with you, your decision clearly explain ed to the world y also beat y wife.  I just pray for you that your daughter or sister, cousin are kill by there husband. Continue with you evil act.</td>\n",
       "      <td>0</td>\n",
       "    </tr>\n",
       "    <tr>\n",
       "      <th>9</th>\n",
       "      <td>1344817873332674560</td>\n",
       "      <td>This has been the best and the worst year. At the beginning I was in a abusive relationship with a dead end job. I lost my job trying to let the Know our building had covid because 4 ppl died In two weeks. I been working since 14 so I decided to just live my life.</td>\n",
       "      <td>0</td>\n",
       "    </tr>\n",
       "  </tbody>\n",
       "</table>\n",
       "</div>"
      ],
      "text/plain": [
       "              tweet_id  \\\n",
       "0  1280721501034098688   \n",
       "1  1343658638842490880   \n",
       "2  1246142231548813317   \n",
       "3  1291062414528544774   \n",
       "4  1268650245967282178   \n",
       "5  1273919606319529990   \n",
       "6  1252024862299885568   \n",
       "7  1339618398842531842   \n",
       "8  1336940059921100800   \n",
       "9  1344817873332674560   \n",
       "\n",
       "                                                                                                                                                                                                                                                                                                          text  \\\n",
       "0  @Turtainum @disitinerant @Benjaminlfranks @terrycrews Police patrols go where there's crime. My neighborhood falls in the largest geographical zone for my police dept &amp; we have the least officers...because there aren't shootings here nearly every night like the south zone or domestic violenc...   \n",
       "1                                                                                                                                                                                                         I had 3 men try to bully me into giving them services today... at a domestic violence legal clinic 🙃   \n",
       "2                                                                                                    Protect the children\\n\\nParents should protect the children\\n\\nLove the children sincerely\\n\\nViolence is not good\\n\\nLove my child from my heart\\n\\nDomestic violence stop it\\n\\nLove children from love   \n",
       "3         @yoongizell Oh yeah! As a survivor of domestic violence it was not like that for me you know? It was a cathartic experience. Believe it or not, I was sent death threats for liking Yoonbum and Sangwoo together! I wrote fanfiction about it. If it makes you happier to not touch it, that's fine!   \n",
       "4  @q_4_liberty @Project_Veritas i can see that, and i do agree there needs to be something in place to help  the vulnerable. however, on average, cops have been listed as some of the greatest threats to the most vulnerable people in society. cops also have a 30% higher domestic violence rates than...   \n",
       "5                                      @PArfectSHot @yogioabs where do I see inequality? okay nice one.\\ndespite of there being so many laws against sexual harassment, rape and domestic violence, women are still raped ever 20 mins. 550,000 girls went missing in 2018 due to female foeticide. aur bolun?   \n",
       "6          @heraldscotland You know being a victim of mny types most probably all abuse throughout my childhood years sexual abuse aged about 9 raped at 14then phsyclogically, mentally and emotionally by my ex partner of 15 years even now i struggle to put a normal convo 2gethr without sounding crazy,   \n",
       "7                                              It's also an eerily similar discourse to when you trt to persuade a person whose partner is violent towards them that they should leave them. \"But he's all I got, and he loves me, how can I leave?!? YOU want to harm our love because you're jealous!!! etc\"   \n",
       "8                                                       @GovSamuelOrtom  No Point talking about Domestic violence with you, your decision clearly explain ed to the world y also beat y wife.  I just pray for you that your daughter or sister, cousin are kill by there husband. Continue with you evil act.   \n",
       "9                                     This has been the best and the worst year. At the beginning I was in a abusive relationship with a dead end job. I lost my job trying to let the Know our building had covid because 4 ppl died In two weeks. I been working since 14 so I decided to just live my life.   \n",
       "\n",
       "   label  \n",
       "0      0  \n",
       "1      0  \n",
       "2      0  \n",
       "3      0  \n",
       "4      0  \n",
       "5      0  \n",
       "6      1  \n",
       "7      0  \n",
       "8      0  \n",
       "9      0  "
      ]
     },
     "execution_count": 16,
     "metadata": {},
     "output_type": "execute_result"
    }
   ],
   "source": [
    "train = pd.read_csv('train.csv', sep=',')\n",
    "valid = pd.read_csv('dev.csv', sep=',')\n",
    "test = pd.read_csv('test.csv', sep=',')\n",
    "# result = pd.read_csv('result.tsv', sep=',')\n",
    "pd.set_option('max_colwidth',300)\n",
    "train[:10]\n",
    "# left_aligned_df = train.style.set_properties(**{'text-align': 'left'})\n",
    "\n",
    "# display(left_aligned_df[:10])"
   ]
  },
  {
   "cell_type": "code",
   "execution_count": 17,
   "id": "dd901a7e",
   "metadata": {},
   "outputs": [
    {
     "data": {
      "text/plain": [
       "0    4042\n",
       "1     481\n",
       "Name: label, dtype: int64"
      ]
     },
     "execution_count": 17,
     "metadata": {},
     "output_type": "execute_result"
    }
   ],
   "source": [
    "train.label.value_counts()"
   ]
  },
  {
   "cell_type": "code",
   "execution_count": 19,
   "id": "4e1905c2",
   "metadata": {},
   "outputs": [
    {
     "data": {
      "text/plain": [
       "0    479\n",
       "1     55\n",
       "Name: label, dtype: int64"
      ]
     },
     "execution_count": 19,
     "metadata": {},
     "output_type": "execute_result"
    }
   ],
   "source": [
    "valid.label.value_counts()"
   ]
  },
  {
   "cell_type": "code",
   "execution_count": 24,
   "id": "ec6d18b0",
   "metadata": {},
   "outputs": [
    {
     "data": {
      "text/plain": [
       "5057"
      ]
     },
     "execution_count": 24,
     "metadata": {},
     "output_type": "execute_result"
    }
   ],
   "source": [
    "len(train.text)+len(valid.text)"
   ]
  },
  {
   "cell_type": "code",
   "execution_count": 23,
   "id": "141e4a1f",
   "metadata": {},
   "outputs": [
    {
     "data": {
      "text/plain": [
       "534"
      ]
     },
     "execution_count": 23,
     "metadata": {},
     "output_type": "execute_result"
    }
   ],
   "source": []
  },
  {
   "cell_type": "code",
   "execution_count": 21,
   "id": "f47c9acc",
   "metadata": {},
   "outputs": [
    {
     "data": {
      "text/plain": [
       "1291"
      ]
     },
     "execution_count": 21,
     "metadata": {},
     "output_type": "execute_result"
    }
   ],
   "source": [
    "len(test.text)"
   ]
  },
  {
   "cell_type": "code",
   "execution_count": 8,
   "id": "eda5cf56",
   "metadata": {},
   "outputs": [],
   "source": [
    "# ids = []\n",
    "# texts = []\n",
    "# labels = []\n",
    "\n",
    "# with open('SMM4H-2022-Task4-Training.tsv','r') as f:\n",
    "#     for item in f.readlines():\n",
    "#         item = item.strip('\\n')\n",
    "#         item_list = item.split('\\t')\n",
    "#         assert len(item_list)==3\n",
    "#         ids.append(item_list[0])\n",
    "#         texts.append(item_list[1])\n",
    "#         labels.append(item_list[2])\n",
    "        \n",
    "# train_tweet = pd.DataFrame({'tweet_id':ids[1:],\n",
    "#                         'text':texts[1:],\n",
    "#                         'label':labels[1:]\n",
    "#                        })\n",
    "# train_tweet.to_csv('SMM4H-2022-Task4-Training.tsv',sep='\\t')"
   ]
  },
  {
   "cell_type": "code",
   "execution_count": 9,
   "id": "2d74a4bb",
   "metadata": {},
   "outputs": [],
   "source": [
    "# ids = []\n",
    "# texts = []\n",
    "# labels = []\n",
    "\n",
    "# with open('SMM4H-2022-Task4-Validation.tsv','r') as f:\n",
    "#     for item in f.readlines():\n",
    "#         item = item.strip('\\n')\n",
    "#         item_list = item.split('\\t')\n",
    "#         assert len(item_list)==3\n",
    "#         ids.append(item_list[0])\n",
    "#         texts.append(item_list[1])\n",
    "#         labels.append(item_list[2])\n",
    "        \n",
    "# valid_tweet = pd.DataFrame({'tweet_id':ids[1:],\n",
    "#                         'text':texts[1:],\n",
    "#                         'label':labels[1:]\n",
    "#                        })\n",
    "# valid_tweet.to_csv('SMM4H-2022-Task4-Validation.tsv',sep='\\t')"
   ]
  },
  {
   "cell_type": "code",
   "execution_count": 10,
   "id": "5e530f5e",
   "metadata": {},
   "outputs": [],
   "source": [
    "# ids = []\n",
    "# texts = []\n",
    "\n",
    "# with open('SMM4H-2022-Task4-Test-Unlabeled.tsv','r') as f:\n",
    "#     for item in f.readlines():\n",
    "#         item = item.strip('\\n')\n",
    "#         item_list = item.split('\\t')\n",
    "#         assert len(item_list)==2\n",
    "#         ids.append(item_list[0])\n",
    "#         texts.append(item_list[1])\n",
    "        \n",
    "# test_tweet = pd.DataFrame({'tweet_id':ids[1:],\n",
    "#                         'text':texts[1:]\n",
    "#                        })\n",
    "# test_tweet.to_csv('SMM4H-2022-Task4-Test-Unlabeled.tsv',sep='\\t')"
   ]
  },
  {
   "cell_type": "markdown",
   "id": "3e85ba37",
   "metadata": {},
   "source": [
    "# 5 fold"
   ]
  },
  {
   "cell_type": "code",
   "execution_count": 11,
   "id": "9fcdf0a4",
   "metadata": {},
   "outputs": [],
   "source": [
    "merge_df = pd.concat([train,valid])"
   ]
  },
  {
   "cell_type": "code",
   "execution_count": 12,
   "id": "637f005b",
   "metadata": {},
   "outputs": [],
   "source": [
    "merge_df.to_csv('merge.csv', sep=',')"
   ]
  },
  {
   "cell_type": "code",
   "execution_count": 13,
   "id": "170f9019",
   "metadata": {},
   "outputs": [
    {
     "data": {
      "text/html": [
       "<div>\n",
       "<style scoped>\n",
       "    .dataframe tbody tr th:only-of-type {\n",
       "        vertical-align: middle;\n",
       "    }\n",
       "\n",
       "    .dataframe tbody tr th {\n",
       "        vertical-align: top;\n",
       "    }\n",
       "\n",
       "    .dataframe thead th {\n",
       "        text-align: right;\n",
       "    }\n",
       "</style>\n",
       "<table border=\"1\" class=\"dataframe\">\n",
       "  <thead>\n",
       "    <tr style=\"text-align: right;\">\n",
       "      <th></th>\n",
       "      <th>tweet_id</th>\n",
       "      <th>text</th>\n",
       "      <th>label</th>\n",
       "    </tr>\n",
       "  </thead>\n",
       "  <tbody>\n",
       "    <tr>\n",
       "      <th>0</th>\n",
       "      <td>1280721501034098688</td>\n",
       "      <td>@Turtainum @disitinerant @Benjaminlfranks @ter...</td>\n",
       "      <td>0</td>\n",
       "    </tr>\n",
       "    <tr>\n",
       "      <th>1</th>\n",
       "      <td>1343658638842490880</td>\n",
       "      <td>I had 3 men try to bully me into giving them s...</td>\n",
       "      <td>0</td>\n",
       "    </tr>\n",
       "    <tr>\n",
       "      <th>2</th>\n",
       "      <td>1246142231548813317</td>\n",
       "      <td>Protect the children\\n\\nParents should protect...</td>\n",
       "      <td>0</td>\n",
       "    </tr>\n",
       "    <tr>\n",
       "      <th>3</th>\n",
       "      <td>1291062414528544774</td>\n",
       "      <td>@yoongizell Oh yeah! As a survivor of domestic...</td>\n",
       "      <td>0</td>\n",
       "    </tr>\n",
       "    <tr>\n",
       "      <th>4</th>\n",
       "      <td>1268650245967282178</td>\n",
       "      <td>@q_4_liberty @Project_Veritas i can see that, ...</td>\n",
       "      <td>0</td>\n",
       "    </tr>\n",
       "    <tr>\n",
       "      <th>...</th>\n",
       "      <td>...</td>\n",
       "      <td>...</td>\n",
       "      <td>...</td>\n",
       "    </tr>\n",
       "    <tr>\n",
       "      <th>5052</th>\n",
       "      <td>1266017598258532352</td>\n",
       "      <td>@MajakIsaiah @d20fitness @ChiefDavidRoddy 1/2 ...</td>\n",
       "      <td>0</td>\n",
       "    </tr>\n",
       "    <tr>\n",
       "      <th>5053</th>\n",
       "      <td>1355315289328672768</td>\n",
       "      <td>I cried for the first time in a while today du...</td>\n",
       "      <td>0</td>\n",
       "    </tr>\n",
       "    <tr>\n",
       "      <th>5054</th>\n",
       "      <td>1341489875883843586</td>\n",
       "      <td>1. Worked through past trauma that sent me off...</td>\n",
       "      <td>0</td>\n",
       "    </tr>\n",
       "    <tr>\n",
       "      <th>5055</th>\n",
       "      <td>1254285224978022402</td>\n",
       "      <td>@cmackenzies I’m wondering what word do you th...</td>\n",
       "      <td>0</td>\n",
       "    </tr>\n",
       "    <tr>\n",
       "      <th>5056</th>\n",
       "      <td>1214433143668690944</td>\n",
       "      <td>@Neerajkalia @timesofindia Yeah sure. MODI is ...</td>\n",
       "      <td>0</td>\n",
       "    </tr>\n",
       "  </tbody>\n",
       "</table>\n",
       "<p>5057 rows × 3 columns</p>\n",
       "</div>"
      ],
      "text/plain": [
       "                 tweet_id                                               text  \\\n",
       "0     1280721501034098688  @Turtainum @disitinerant @Benjaminlfranks @ter...   \n",
       "1     1343658638842490880  I had 3 men try to bully me into giving them s...   \n",
       "2     1246142231548813317  Protect the children\\n\\nParents should protect...   \n",
       "3     1291062414528544774  @yoongizell Oh yeah! As a survivor of domestic...   \n",
       "4     1268650245967282178  @q_4_liberty @Project_Veritas i can see that, ...   \n",
       "...                   ...                                                ...   \n",
       "5052  1266017598258532352  @MajakIsaiah @d20fitness @ChiefDavidRoddy 1/2 ...   \n",
       "5053  1355315289328672768  I cried for the first time in a while today du...   \n",
       "5054  1341489875883843586  1. Worked through past trauma that sent me off...   \n",
       "5055  1254285224978022402  @cmackenzies I’m wondering what word do you th...   \n",
       "5056  1214433143668690944  @Neerajkalia @timesofindia Yeah sure. MODI is ...   \n",
       "\n",
       "      label  \n",
       "0         0  \n",
       "1         0  \n",
       "2         0  \n",
       "3         0  \n",
       "4         0  \n",
       "...     ...  \n",
       "5052      0  \n",
       "5053      0  \n",
       "5054      0  \n",
       "5055      0  \n",
       "5056      0  \n",
       "\n",
       "[5057 rows x 3 columns]"
      ]
     },
     "execution_count": 13,
     "metadata": {},
     "output_type": "execute_result"
    }
   ],
   "source": [
    "merge_df = pd.read_csv('merge.csv', sep=',')\n",
    "merge_df = merge_df.drop('Unnamed: 0',axis=1)\n",
    "merge_df"
   ]
  },
  {
   "cell_type": "code",
   "execution_count": 14,
   "id": "43396299",
   "metadata": {},
   "outputs": [],
   "source": [
    "size = len(merge_df.label)\n",
    "for i in range(5):\n",
    "    merge_df[int(i*0.2*size):int((i+1)*0.2*size)].to_csv('validation_{}.csv'.format(i), sep=',')\n",
    "    merge_df.drop(list(range(int(i*0.2*size),int((i+1)*0.2*size)))).to_csv('train_{}.csv'.format(i), sep=',')"
   ]
  },
  {
   "cell_type": "markdown",
   "id": "af80b38b",
   "metadata": {},
   "source": [
    "# pseudo"
   ]
  },
  {
   "cell_type": "code",
   "execution_count": 8,
   "id": "e5bcfda8",
   "metadata": {},
   "outputs": [
    {
     "data": {
      "text/html": [
       "<div>\n",
       "<style scoped>\n",
       "    .dataframe tbody tr th:only-of-type {\n",
       "        vertical-align: middle;\n",
       "    }\n",
       "\n",
       "    .dataframe tbody tr th {\n",
       "        vertical-align: top;\n",
       "    }\n",
       "\n",
       "    .dataframe thead th {\n",
       "        text-align: right;\n",
       "    }\n",
       "</style>\n",
       "<table border=\"1\" class=\"dataframe\">\n",
       "  <thead>\n",
       "    <tr style=\"text-align: right;\">\n",
       "      <th></th>\n",
       "      <th>tweet_id</th>\n",
       "      <th>text</th>\n",
       "      <th>label</th>\n",
       "    </tr>\n",
       "  </thead>\n",
       "  <tbody>\n",
       "    <tr>\n",
       "      <th>0</th>\n",
       "      <td>1292581006101241856</td>\n",
       "      <td>Yesterday I heard about the amazing work @fait...</td>\n",
       "      <td>NaN</td>\n",
       "    </tr>\n",
       "    <tr>\n",
       "      <th>1</th>\n",
       "      <td>Support them✅</td>\n",
       "      <td>NaN</td>\n",
       "      <td>NaN</td>\n",
       "    </tr>\n",
       "    <tr>\n",
       "      <th>2</th>\n",
       "      <td>Follow them✅</td>\n",
       "      <td>NaN</td>\n",
       "      <td>NaN</td>\n",
       "    </tr>\n",
       "    <tr>\n",
       "      <th>3</th>\n",
       "      <td>Partner with them✅</td>\n",
       "      <td>NaN</td>\n",
       "      <td>NaN</td>\n",
       "    </tr>\n",
       "    <tr>\n",
       "      <th>4</th>\n",
       "      <td>TOGETHER, we can #EndGunViolence💪💪💪</td>\n",
       "      <td>NaN</td>\n",
       "      <td>NaN</td>\n",
       "    </tr>\n",
       "    <tr>\n",
       "      <th>...</th>\n",
       "      <td>...</td>\n",
       "      <td>...</td>\n",
       "      <td>...</td>\n",
       "    </tr>\n",
       "    <tr>\n",
       "      <th>1874</th>\n",
       "      <td>#AnneMcCaffrey</td>\n",
       "      <td>NaN</td>\n",
       "      <td>NaN</td>\n",
       "    </tr>\n",
       "    <tr>\n",
       "      <th>1875</th>\n",
       "      <td>#GetOffTheUnicorn</td>\n",
       "      <td>0</td>\n",
       "      <td>NaN</td>\n",
       "    </tr>\n",
       "    <tr>\n",
       "      <th>1876</th>\n",
       "      <td>1364299024350732297</td>\n",
       "      <td>Because--haha--having people treat me like hav...</td>\n",
       "      <td>NaN</td>\n",
       "    </tr>\n",
       "    <tr>\n",
       "      <th>1877</th>\n",
       "      <td>Boundaries are a part of well being, not a tra...</td>\n",
       "      <td>1</td>\n",
       "      <td>NaN</td>\n",
       "    </tr>\n",
       "    <tr>\n",
       "      <th>1878</th>\n",
       "      <td>1329540054214193162</td>\n",
       "      <td>I’m finna katch a domestic violence kase today🙄</td>\n",
       "      <td>0.0</td>\n",
       "    </tr>\n",
       "  </tbody>\n",
       "</table>\n",
       "<p>1879 rows × 3 columns</p>\n",
       "</div>"
      ],
      "text/plain": [
       "                                               tweet_id  \\\n",
       "0                                   1292581006101241856   \n",
       "1                                         Support them✅   \n",
       "2                                          Follow them✅   \n",
       "3                                    Partner with them✅   \n",
       "4                   TOGETHER, we can #EndGunViolence💪💪💪   \n",
       "...                                                 ...   \n",
       "1874                                     #AnneMcCaffrey   \n",
       "1875                                  #GetOffTheUnicorn   \n",
       "1876                                1364299024350732297   \n",
       "1877  Boundaries are a part of well being, not a tra...   \n",
       "1878                                1329540054214193162   \n",
       "\n",
       "                                                   text  label  \n",
       "0     Yesterday I heard about the amazing work @fait...    NaN  \n",
       "1                                                   NaN    NaN  \n",
       "2                                                   NaN    NaN  \n",
       "3                                                   NaN    NaN  \n",
       "4                                                   NaN    NaN  \n",
       "...                                                 ...    ...  \n",
       "1874                                                NaN    NaN  \n",
       "1875                                                  0    NaN  \n",
       "1876  Because--haha--having people treat me like hav...    NaN  \n",
       "1877                                                  1    NaN  \n",
       "1878    I’m finna katch a domestic violence kase today🙄    0.0  \n",
       "\n",
       "[1879 rows x 3 columns]"
      ]
     },
     "execution_count": 8,
     "metadata": {},
     "output_type": "execute_result"
    }
   ],
   "source": [
    "pred = pd.read_csv('result.tsv', sep='\\t')\n",
    "pred"
   ]
  },
  {
   "cell_type": "code",
   "execution_count": null,
   "id": "4e51bfd3",
   "metadata": {},
   "outputs": [],
   "source": [
    "pseudo = pd.concat([pred,merge_df]).sample(frac=1)\n",
    "pseudo"
   ]
  },
  {
   "cell_type": "code",
   "execution_count": 15,
   "id": "54026cdc",
   "metadata": {},
   "outputs": [],
   "source": [
    "pseudo.to_csv('pseudo.tsv', sep='\\t')\n",
    "pseudo = pd.read_csv('pseudo.tsv', sep='\\t')\n",
    "pseudo = pseudo.drop('Unnamed: 0',axis=1)"
   ]
  },
  {
   "cell_type": "code",
   "execution_count": 16,
   "id": "4367f83d",
   "metadata": {},
   "outputs": [],
   "source": [
    "size = len(pseudo.label)\n",
    "for i in range(5):\n",
    "    pseudo[int(i*0.2*size):int((i+1)*0.2*size)].to_csv('validation_{}.csv'.format(i), sep=',')\n",
    "    pseudo.drop(list(range(int(i*0.2*size),int((i+1)*0.2*size)))).to_csv('train_{}.csv'.format(i), sep=',')"
   ]
  },
  {
   "cell_type": "code",
   "execution_count": null,
   "id": "9f95cf41",
   "metadata": {},
   "outputs": [],
   "source": []
  }
 ],
 "metadata": {
  "kernelspec": {
   "display_name": "Python 3 (ipykernel)",
   "language": "python",
   "name": "python3"
  },
  "language_info": {
   "codemirror_mode": {
    "name": "ipython",
    "version": 3
   },
   "file_extension": ".py",
   "mimetype": "text/x-python",
   "name": "python",
   "nbconvert_exporter": "python",
   "pygments_lexer": "ipython3",
   "version": "3.7.4"
  }
 },
 "nbformat": 4,
 "nbformat_minor": 5
}
