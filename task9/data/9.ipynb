{
 "cells": [
  {
   "cell_type": "code",
   "execution_count": 1,
   "id": "41eda9ec",
   "metadata": {},
   "outputs": [],
   "source": [
    "import pandas as pd"
   ]
  },
  {
   "cell_type": "code",
   "execution_count": 2,
   "id": "8fd4535a",
   "metadata": {},
   "outputs": [
    {
     "data": {
      "text/html": [
       "<div>\n",
       "<style scoped>\n",
       "    .dataframe tbody tr th:only-of-type {\n",
       "        vertical-align: middle;\n",
       "    }\n",
       "\n",
       "    .dataframe tbody tr th {\n",
       "        vertical-align: top;\n",
       "    }\n",
       "\n",
       "    .dataframe thead th {\n",
       "        text-align: right;\n",
       "    }\n",
       "</style>\n",
       "<table border=\"1\" class=\"dataframe\">\n",
       "  <thead>\n",
       "    <tr style=\"text-align: right;\">\n",
       "      <th></th>\n",
       "      <th>id</th>\n",
       "      <th>text</th>\n",
       "      <th>label</th>\n",
       "    </tr>\n",
       "  </thead>\n",
       "  <tbody>\n",
       "    <tr>\n",
       "      <th>0</th>\n",
       "      <td>1</td>\n",
       "      <td>We had a patient that was about 10 years into ...</td>\n",
       "      <td>0</td>\n",
       "    </tr>\n",
       "    <tr>\n",
       "      <th>1</th>\n",
       "      <td>2</td>\n",
       "      <td>I also have awful vision my right eye is -15 a...</td>\n",
       "      <td>0</td>\n",
       "    </tr>\n",
       "    <tr>\n",
       "      <th>2</th>\n",
       "      <td>3</td>\n",
       "      <td>22F. Apologies for yet another post, but I'm a...</td>\n",
       "      <td>1</td>\n",
       "    </tr>\n",
       "    <tr>\n",
       "      <th>3</th>\n",
       "      <td>4</td>\n",
       "      <td>No. If you're an adult over 25 or so, there's ...</td>\n",
       "      <td>0</td>\n",
       "    </tr>\n",
       "    <tr>\n",
       "      <th>4</th>\n",
       "      <td>5</td>\n",
       "      <td>I cried a lot because of fight with my mother ...</td>\n",
       "      <td>0</td>\n",
       "    </tr>\n",
       "    <tr>\n",
       "      <th>...</th>\n",
       "      <td>...</td>\n",
       "      <td>...</td>\n",
       "      <td>...</td>\n",
       "    </tr>\n",
       "    <tr>\n",
       "      <th>8995</th>\n",
       "      <td>8996</td>\n",
       "      <td>My heart goes out to you. This is very similar...</td>\n",
       "      <td>0</td>\n",
       "    </tr>\n",
       "    <tr>\n",
       "      <th>8996</th>\n",
       "      <td>8997</td>\n",
       "      <td>It has been so long since my transplants, I re...</td>\n",
       "      <td>0</td>\n",
       "    </tr>\n",
       "    <tr>\n",
       "      <th>8997</th>\n",
       "      <td>8998</td>\n",
       "      <td>My Optomerist says these CI (Convergence Insuf...</td>\n",
       "      <td>1</td>\n",
       "    </tr>\n",
       "    <tr>\n",
       "      <th>8998</th>\n",
       "      <td>8999</td>\n",
       "      <td>So my L eye has diminished vision in darkness ...</td>\n",
       "      <td>1</td>\n",
       "    </tr>\n",
       "    <tr>\n",
       "      <th>8999</th>\n",
       "      <td>9000</td>\n",
       "      <td>I mean it usually shows at young ages around 1...</td>\n",
       "      <td>0</td>\n",
       "    </tr>\n",
       "  </tbody>\n",
       "</table>\n",
       "<p>9000 rows × 3 columns</p>\n",
       "</div>"
      ],
      "text/plain": [
       "        id                                               text  label\n",
       "0        1  We had a patient that was about 10 years into ...      0\n",
       "1        2  I also have awful vision my right eye is -15 a...      0\n",
       "2        3  22F. Apologies for yet another post, but I'm a...      1\n",
       "3        4  No. If you're an adult over 25 or so, there's ...      0\n",
       "4        5  I cried a lot because of fight with my mother ...      0\n",
       "...    ...                                                ...    ...\n",
       "8995  8996  My heart goes out to you. This is very similar...      0\n",
       "8996  8997  It has been so long since my transplants, I re...      0\n",
       "8997  8998  My Optomerist says these CI (Convergence Insuf...      1\n",
       "8998  8999  So my L eye has diminished vision in darkness ...      1\n",
       "8999  9000  I mean it usually shows at young ages around 1...      0\n",
       "\n",
       "[9000 rows x 3 columns]"
      ]
     },
     "execution_count": 2,
     "metadata": {},
     "output_type": "execute_result"
    }
   ],
   "source": [
    "train = pd.read_csv('training_data.csv', sep=',')\n",
    "valid = pd.read_csv('validation_data.csv', sep=',')\n",
    "test = pd.read_csv('testing_input.csv', sep=',')\n",
    "# result = pd.read_csv('result.csv', sep=',')\n",
    "train"
   ]
  },
  {
   "cell_type": "code",
   "execution_count": 5,
   "id": "3fca7515",
   "metadata": {},
   "outputs": [
    {
     "data": {
      "text/plain": [
       "0    6079\n",
       "1    2921\n",
       "Name: label, dtype: int64"
      ]
     },
     "execution_count": 5,
     "metadata": {},
     "output_type": "execute_result"
    }
   ],
   "source": [
    "train.label.value_counts()"
   ]
  },
  {
   "cell_type": "code",
   "execution_count": 6,
   "id": "2b0a8f25",
   "metadata": {},
   "outputs": [
    {
     "data": {
      "text/plain": [
       "0    686\n",
       "1    314\n",
       "Name: label, dtype: int64"
      ]
     },
     "execution_count": 6,
     "metadata": {},
     "output_type": "execute_result"
    }
   ],
   "source": [
    "valid.label.value_counts()"
   ]
  },
  {
   "cell_type": "code",
   "execution_count": 3,
   "id": "2bb6afe8",
   "metadata": {},
   "outputs": [
    {
     "data": {
      "text/plain": [
       "10000"
      ]
     },
     "execution_count": 3,
     "metadata": {},
     "output_type": "execute_result"
    }
   ],
   "source": [
    "len(train.text)+len(valid.text)"
   ]
  },
  {
   "cell_type": "code",
   "execution_count": 4,
   "id": "ddc161cf",
   "metadata": {},
   "outputs": [
    {
     "data": {
      "text/plain": [
       "2000"
      ]
     },
     "execution_count": 4,
     "metadata": {},
     "output_type": "execute_result"
    }
   ],
   "source": [
    "len(test.text)"
   ]
  },
  {
   "cell_type": "code",
   "execution_count": 8,
   "id": "a5316580",
   "metadata": {},
   "outputs": [],
   "source": [
    "# ids = []\n",
    "# texts = []\n",
    "# labels = []\n",
    "\n",
    "# with open('SMM4H-2022-Task4-Training.tsv','r') as f:\n",
    "#     for item in f.readlines():\n",
    "#         item = item.strip('\\n')\n",
    "#         item_list = item.split('\\t')\n",
    "#         assert len(item_list)==3\n",
    "#         ids.append(item_list[0])\n",
    "#         texts.append(item_list[1])\n",
    "#         labels.append(item_list[2])\n",
    "        \n",
    "# train_tweet = pd.DataFrame({'tweet_id':ids[1:],\n",
    "#                         'text':texts[1:],\n",
    "#                         'label':labels[1:]\n",
    "#                        })\n",
    "# train_tweet.to_csv('SMM4H-2022-Task4-Training.tsv',sep='\\t')"
   ]
  },
  {
   "cell_type": "code",
   "execution_count": 9,
   "id": "ffbaeef3",
   "metadata": {},
   "outputs": [],
   "source": [
    "# ids = []\n",
    "# texts = []\n",
    "# labels = []\n",
    "\n",
    "# with open('SMM4H-2022-Task4-Validation.tsv','r') as f:\n",
    "#     for item in f.readlines():\n",
    "#         item = item.strip('\\n')\n",
    "#         item_list = item.split('\\t')\n",
    "#         assert len(item_list)==3\n",
    "#         ids.append(item_list[0])\n",
    "#         texts.append(item_list[1])\n",
    "#         labels.append(item_list[2])\n",
    "        \n",
    "# valid_tweet = pd.DataFrame({'tweet_id':ids[1:],\n",
    "#                         'text':texts[1:],\n",
    "#                         'label':labels[1:]\n",
    "#                        })\n",
    "# valid_tweet.to_csv('SMM4H-2022-Task4-Validation.tsv',sep='\\t')"
   ]
  },
  {
   "cell_type": "code",
   "execution_count": 10,
   "id": "d786b6bf",
   "metadata": {},
   "outputs": [],
   "source": [
    "# ids = []\n",
    "# texts = []\n",
    "\n",
    "# with open('SMM4H-2022-Task4-Test-Unlabeled.tsv','r') as f:\n",
    "#     for item in f.readlines():\n",
    "#         item = item.strip('\\n')\n",
    "#         item_list = item.split('\\t')\n",
    "#         assert len(item_list)==2\n",
    "#         ids.append(item_list[0])\n",
    "#         texts.append(item_list[1])\n",
    "        \n",
    "# test_tweet = pd.DataFrame({'tweet_id':ids[1:],\n",
    "#                         'text':texts[1:]\n",
    "#                        })\n",
    "# test_tweet.to_csv('SMM4H-2022-Task4-Test-Unlabeled.tsv',sep='\\t')"
   ]
  },
  {
   "cell_type": "markdown",
   "id": "643cc209",
   "metadata": {},
   "source": [
    "# 5 fold"
   ]
  },
  {
   "cell_type": "code",
   "execution_count": 6,
   "id": "16f66ed8",
   "metadata": {},
   "outputs": [],
   "source": [
    "merge_df = pd.concat([train,valid])"
   ]
  },
  {
   "cell_type": "code",
   "execution_count": 7,
   "id": "854a0049",
   "metadata": {},
   "outputs": [],
   "source": [
    "merge_df.to_csv('merge.csv', sep=',')"
   ]
  },
  {
   "cell_type": "code",
   "execution_count": 8,
   "id": "7c64cc07",
   "metadata": {},
   "outputs": [
    {
     "data": {
      "text/html": [
       "<div>\n",
       "<style scoped>\n",
       "    .dataframe tbody tr th:only-of-type {\n",
       "        vertical-align: middle;\n",
       "    }\n",
       "\n",
       "    .dataframe tbody tr th {\n",
       "        vertical-align: top;\n",
       "    }\n",
       "\n",
       "    .dataframe thead th {\n",
       "        text-align: right;\n",
       "    }\n",
       "</style>\n",
       "<table border=\"1\" class=\"dataframe\">\n",
       "  <thead>\n",
       "    <tr style=\"text-align: right;\">\n",
       "      <th></th>\n",
       "      <th>id</th>\n",
       "      <th>text</th>\n",
       "      <th>label</th>\n",
       "    </tr>\n",
       "  </thead>\n",
       "  <tbody>\n",
       "    <tr>\n",
       "      <th>0</th>\n",
       "      <td>1</td>\n",
       "      <td>We had a patient that was about 10 years into ...</td>\n",
       "      <td>0</td>\n",
       "    </tr>\n",
       "    <tr>\n",
       "      <th>1</th>\n",
       "      <td>2</td>\n",
       "      <td>I also have awful vision my right eye is -15 a...</td>\n",
       "      <td>0</td>\n",
       "    </tr>\n",
       "    <tr>\n",
       "      <th>2</th>\n",
       "      <td>3</td>\n",
       "      <td>22F. Apologies for yet another post, but I'm a...</td>\n",
       "      <td>1</td>\n",
       "    </tr>\n",
       "    <tr>\n",
       "      <th>3</th>\n",
       "      <td>4</td>\n",
       "      <td>No. If you're an adult over 25 or so, there's ...</td>\n",
       "      <td>0</td>\n",
       "    </tr>\n",
       "    <tr>\n",
       "      <th>4</th>\n",
       "      <td>5</td>\n",
       "      <td>I cried a lot because of fight with my mother ...</td>\n",
       "      <td>0</td>\n",
       "    </tr>\n",
       "    <tr>\n",
       "      <th>...</th>\n",
       "      <td>...</td>\n",
       "      <td>...</td>\n",
       "      <td>...</td>\n",
       "    </tr>\n",
       "    <tr>\n",
       "      <th>9995</th>\n",
       "      <td>11996</td>\n",
       "      <td>My right eye has a 40 year old transplant in i...</td>\n",
       "      <td>0</td>\n",
       "    </tr>\n",
       "    <tr>\n",
       "      <th>9996</th>\n",
       "      <td>11997</td>\n",
       "      <td>I had to stop scrolling through posts when I s...</td>\n",
       "      <td>0</td>\n",
       "    </tr>\n",
       "    <tr>\n",
       "      <th>9997</th>\n",
       "      <td>11998</td>\n",
       "      <td>Thanks. I have no idea what my soft lenses are...</td>\n",
       "      <td>0</td>\n",
       "    </tr>\n",
       "    <tr>\n",
       "      <th>9998</th>\n",
       "      <td>11999</td>\n",
       "      <td>KC can progress in your 30s and even later. Pr...</td>\n",
       "      <td>0</td>\n",
       "    </tr>\n",
       "    <tr>\n",
       "      <th>9999</th>\n",
       "      <td>12000</td>\n",
       "      <td>I've read about this being multifactorial , th...</td>\n",
       "      <td>1</td>\n",
       "    </tr>\n",
       "  </tbody>\n",
       "</table>\n",
       "<p>10000 rows × 3 columns</p>\n",
       "</div>"
      ],
      "text/plain": [
       "         id                                               text  label\n",
       "0         1  We had a patient that was about 10 years into ...      0\n",
       "1         2  I also have awful vision my right eye is -15 a...      0\n",
       "2         3  22F. Apologies for yet another post, but I'm a...      1\n",
       "3         4  No. If you're an adult over 25 or so, there's ...      0\n",
       "4         5  I cried a lot because of fight with my mother ...      0\n",
       "...     ...                                                ...    ...\n",
       "9995  11996  My right eye has a 40 year old transplant in i...      0\n",
       "9996  11997  I had to stop scrolling through posts when I s...      0\n",
       "9997  11998  Thanks. I have no idea what my soft lenses are...      0\n",
       "9998  11999  KC can progress in your 30s and even later. Pr...      0\n",
       "9999  12000  I've read about this being multifactorial , th...      1\n",
       "\n",
       "[10000 rows x 3 columns]"
      ]
     },
     "execution_count": 8,
     "metadata": {},
     "output_type": "execute_result"
    }
   ],
   "source": [
    "merge_df = pd.read_csv('merge.csv', sep=',')\n",
    "merge_df = merge_df.drop('Unnamed: 0',axis=1)\n",
    "merge_df"
   ]
  },
  {
   "cell_type": "code",
   "execution_count": 9,
   "id": "a48f77df",
   "metadata": {},
   "outputs": [],
   "source": [
    "size = len(merge_df.label)\n",
    "for i in range(5):\n",
    "    merge_df[int(i*0.2*size):int((i+1)*0.2*size)].to_csv('validation_{}.csv'.format(i), sep=',')\n",
    "    merge_df.drop(list(range(int(i*0.2*size),int((i+1)*0.2*size)))).to_csv('train_{}.csv'.format(i), sep=',')"
   ]
  },
  {
   "cell_type": "markdown",
   "id": "b54a680e",
   "metadata": {},
   "source": [
    "# pseudo"
   ]
  },
  {
   "cell_type": "code",
   "execution_count": 14,
   "id": "75b576b5",
   "metadata": {},
   "outputs": [
    {
     "data": {
      "text/html": [
       "<div>\n",
       "<style scoped>\n",
       "    .dataframe tbody tr th:only-of-type {\n",
       "        vertical-align: middle;\n",
       "    }\n",
       "\n",
       "    .dataframe tbody tr th {\n",
       "        vertical-align: top;\n",
       "    }\n",
       "\n",
       "    .dataframe thead th {\n",
       "        text-align: right;\n",
       "    }\n",
       "</style>\n",
       "<table border=\"1\" class=\"dataframe\">\n",
       "  <thead>\n",
       "    <tr style=\"text-align: right;\">\n",
       "      <th></th>\n",
       "      <th>tweet_id</th>\n",
       "      <th>text</th>\n",
       "      <th>label</th>\n",
       "    </tr>\n",
       "  </thead>\n",
       "  <tbody>\n",
       "    <tr>\n",
       "      <th>0</th>\n",
       "      <td>973723450400374784</td>\n",
       "      <td>My 23rd birthday is this upcoming Monday 😋😋</td>\n",
       "      <td>1</td>\n",
       "    </tr>\n",
       "    <tr>\n",
       "      <th>1</th>\n",
       "      <td>857298522282086400</td>\n",
       "      <td>Based on the life plan I made for myself at 16...</td>\n",
       "      <td>0</td>\n",
       "    </tr>\n",
       "    <tr>\n",
       "      <th>2</th>\n",
       "      <td>803428784049426433</td>\n",
       "      <td>me when I realize Justin turns 23 in 93 days h...</td>\n",
       "      <td>0</td>\n",
       "    </tr>\n",
       "    <tr>\n",
       "      <th>3</th>\n",
       "      <td>1009424624050991104</td>\n",
       "      <td>Lmao a 33 yo man with a spot of goatee has tur...</td>\n",
       "      <td>0</td>\n",
       "    </tr>\n",
       "    <tr>\n",
       "      <th>4</th>\n",
       "      <td>815857468442025984</td>\n",
       "      <td>How are you meant to know what you wanna do fo...</td>\n",
       "      <td>1</td>\n",
       "    </tr>\n",
       "    <tr>\n",
       "      <th>...</th>\n",
       "      <td>...</td>\n",
       "      <td>...</td>\n",
       "      <td>...</td>\n",
       "    </tr>\n",
       "    <tr>\n",
       "      <th>10995</th>\n",
       "      <td>1028649935648907264</td>\n",
       "      <td>Please help me realize this dream! I need to g...</td>\n",
       "      <td>0</td>\n",
       "    </tr>\n",
       "    <tr>\n",
       "      <th>10996</th>\n",
       "      <td>993551429175595008</td>\n",
       "      <td>@8richard6 @KeepTexasRed7 Sad to say, this is ...</td>\n",
       "      <td>0</td>\n",
       "    </tr>\n",
       "    <tr>\n",
       "      <th>10997</th>\n",
       "      <td>984557822179446784</td>\n",
       "      <td>@anotherseminole Damn true I had them for the ...</td>\n",
       "      <td>1</td>\n",
       "    </tr>\n",
       "    <tr>\n",
       "      <th>10998</th>\n",
       "      <td>866406748923600896</td>\n",
       "      <td>My birthday , 22 May 💜🎈</td>\n",
       "      <td>0</td>\n",
       "    </tr>\n",
       "    <tr>\n",
       "      <th>10999</th>\n",
       "      <td>1043357669271134211</td>\n",
       "      <td>@ActorMadhavan Hello sir, I'm Digvijay and tod...</td>\n",
       "      <td>0</td>\n",
       "    </tr>\n",
       "  </tbody>\n",
       "</table>\n",
       "<p>21000 rows × 3 columns</p>\n",
       "</div>"
      ],
      "text/plain": [
       "                  tweet_id                                               text  \\\n",
       "0       973723450400374784        My 23rd birthday is this upcoming Monday 😋😋   \n",
       "1       857298522282086400  Based on the life plan I made for myself at 16...   \n",
       "2       803428784049426433  me when I realize Justin turns 23 in 93 days h...   \n",
       "3      1009424624050991104  Lmao a 33 yo man with a spot of goatee has tur...   \n",
       "4       815857468442025984  How are you meant to know what you wanna do fo...   \n",
       "...                    ...                                                ...   \n",
       "10995  1028649935648907264  Please help me realize this dream! I need to g...   \n",
       "10996   993551429175595008  @8richard6 @KeepTexasRed7 Sad to say, this is ...   \n",
       "10997   984557822179446784  @anotherseminole Damn true I had them for the ...   \n",
       "10998   866406748923600896                            My birthday , 22 May 💜🎈   \n",
       "10999  1043357669271134211  @ActorMadhavan Hello sir, I'm Digvijay and tod...   \n",
       "\n",
       "       label  \n",
       "0          1  \n",
       "1          0  \n",
       "2          0  \n",
       "3          0  \n",
       "4          1  \n",
       "...      ...  \n",
       "10995      0  \n",
       "10996      0  \n",
       "10997      1  \n",
       "10998      0  \n",
       "10999      0  \n",
       "\n",
       "[21000 rows x 3 columns]"
      ]
     },
     "execution_count": 14,
     "metadata": {},
     "output_type": "execute_result"
    }
   ],
   "source": [
    "pred = pd.read_csv('result.tsv', sep='\\t')\n",
    "pseudo = pd.concat([pred,merge_df]).sample(frac=1)\n",
    "pseudo"
   ]
  },
  {
   "cell_type": "code",
   "execution_count": 15,
   "id": "49ff2034",
   "metadata": {},
   "outputs": [],
   "source": [
    "pseudo.to_csv('pseudo.tsv', sep='\\t')\n",
    "pseudo = pd.read_csv('pseudo.tsv', sep='\\t')\n",
    "pseudo = pseudo.drop('Unnamed: 0',axis=1)"
   ]
  },
  {
   "cell_type": "code",
   "execution_count": 16,
   "id": "b248ab54",
   "metadata": {},
   "outputs": [],
   "source": [
    "size = len(pseudo.label)\n",
    "for i in range(5):\n",
    "    pseudo[int(i*0.2*size):int((i+1)*0.2*size)].to_csv('validation_{}.tsv'.format(i), sep='\\t')\n",
    "    pseudo.drop(list(range(int(i*0.2*size),int((i+1)*0.2*size)))).to_csv('train_{}.tsv'.format(i), sep='\\t')"
   ]
  },
  {
   "cell_type": "code",
   "execution_count": null,
   "id": "e5cb7165",
   "metadata": {},
   "outputs": [],
   "source": []
  }
 ],
 "metadata": {
  "kernelspec": {
   "display_name": "Python 3 (ipykernel)",
   "language": "python",
   "name": "python3"
  },
  "language_info": {
   "codemirror_mode": {
    "name": "ipython",
    "version": 3
   },
   "file_extension": ".py",
   "mimetype": "text/x-python",
   "name": "python",
   "nbconvert_exporter": "python",
   "pygments_lexer": "ipython3",
   "version": "3.7.4"
  }
 },
 "nbformat": 4,
 "nbformat_minor": 5
}
