{
 "cells": [
  {
   "cell_type": "code",
   "execution_count": 2,
   "metadata": {},
   "outputs": [],
   "source": [
    "import re\n",
    "import pandas as pd\n",
    "import numpy as np\n",
    "from sklearn import metrics\n",
    "from sklearn.model_selection import StratifiedShuffleSplit\n",
    "from sklearn.linear_model import LogisticRegression\n",
    "from sklearn.svm import SVC\n",
    "from sklearn.metrics import precision_recall_fscore_support\n",
    "from sklearn.metrics import roc_auc_score\n",
    "from sklearn.model_selection import GridSearchCV\n",
    "import nltk"
   ]
  },
  {
   "cell_type": "code",
   "execution_count": 3,
   "metadata": {},
   "outputs": [],
   "source": [
    "train_tweets = pd.read_csv('train/train_tweets.tsv', sep='\\t', header=None, names=['tweet_id', 'tweet'])\n",
    "train_classes = pd.read_csv('train/train_class.tsv', sep='\\t', header=None, names=['tweet_id', 'label'])\n",
    "tweets = pd.read_csv('valid/tweets.tsv', sep='\\t', header=None, names=['tweet_id', 'tweet'])\n",
    "classes = pd.read_csv('valid/class.tsv', sep='\\t', header=None, names=['tweet_id', 'label'])"
   ]
  },
  {
   "cell_type": "code",
   "execution_count": 4,
   "metadata": {},
   "outputs": [],
   "source": [
    "train_data = pd.merge(train_tweets, train_classes, how='left')\n",
    "val_data = pd.merge(tweets, classes, how='left')"
   ]
  },
  {
   "cell_type": "code",
   "execution_count": 5,
   "metadata": {},
   "outputs": [
    {
     "data": {
      "text/html": [
       "<div>\n",
       "<style scoped>\n",
       "    .dataframe tbody tr th:only-of-type {\n",
       "        vertical-align: middle;\n",
       "    }\n",
       "\n",
       "    .dataframe tbody tr th {\n",
       "        vertical-align: top;\n",
       "    }\n",
       "\n",
       "    .dataframe thead th {\n",
       "        text-align: right;\n",
       "    }\n",
       "</style>\n",
       "<table border=\"1\" class=\"dataframe\">\n",
       "  <thead>\n",
       "    <tr style=\"text-align: right;\">\n",
       "      <th></th>\n",
       "      <th>tweet_id</th>\n",
       "      <th>tweet</th>\n",
       "      <th>label</th>\n",
       "    </tr>\n",
       "  </thead>\n",
       "  <tbody>\n",
       "    <tr>\n",
       "      <th>0</th>\n",
       "      <td>SMM4H2022ykI8vN7jZYnV57AM</td>\n",
       "      <td>@USER_________ i found the humira to fix all m...</td>\n",
       "      <td>ADE</td>\n",
       "    </tr>\n",
       "    <tr>\n",
       "      <th>1</th>\n",
       "      <td>SMM4H2022uCZV2SRsCe4vzjFm</td>\n",
       "      <td>@USER__________ have to go to a doc now to see...</td>\n",
       "      <td>ADE</td>\n",
       "    </tr>\n",
       "    <tr>\n",
       "      <th>2</th>\n",
       "      <td>SMM4H20229Aha6m4XERqYdFWf</td>\n",
       "      <td>06.30 day 14 Rivaroxaban diary. Thanks to para...</td>\n",
       "      <td>ADE</td>\n",
       "    </tr>\n",
       "    <tr>\n",
       "      <th>3</th>\n",
       "      <td>SMM4H2022UAvDTQWOIacvBkzp</td>\n",
       "      <td>rt @USER_______: my philly dr prescribed me tr...</td>\n",
       "      <td>ADE</td>\n",
       "    </tr>\n",
       "    <tr>\n",
       "      <th>4</th>\n",
       "      <td>SMM4H2022qNHntuJnkevkahGr</td>\n",
       "      <td>ciprofloxacin: how do you expect to sleep when...</td>\n",
       "      <td>ADE</td>\n",
       "    </tr>\n",
       "    <tr>\n",
       "      <th>...</th>\n",
       "      <td>...</td>\n",
       "      <td>...</td>\n",
       "      <td>...</td>\n",
       "    </tr>\n",
       "    <tr>\n",
       "      <th>904</th>\n",
       "      <td>SMM4H2022CgATBD494ehjw7Aj</td>\n",
       "      <td>They've used sildenafil to treat hypertension....</td>\n",
       "      <td>noADE</td>\n",
       "    </tr>\n",
       "    <tr>\n",
       "      <th>905</th>\n",
       "      <td>SMM4H2022bRdYe0JKrY3chH6g</td>\n",
       "      <td>@USER______ thx! the lamictal was a lifesaver ...</td>\n",
       "      <td>noADE</td>\n",
       "    </tr>\n",
       "    <tr>\n",
       "      <th>906</th>\n",
       "      <td>SMM4H2022BNvpfxDmxQy7BPsu</td>\n",
       "      <td>Researchers to study effectiveness of atorvast...</td>\n",
       "      <td>noADE</td>\n",
       "    </tr>\n",
       "    <tr>\n",
       "      <th>907</th>\n",
       "      <td>SMM4H20224d7PvtBV42vXzUgw</td>\n",
       "      <td>Oral #bupe Buprenorphine Hemiadipate rapid dos...</td>\n",
       "      <td>noADE</td>\n",
       "    </tr>\n",
       "    <tr>\n",
       "      <th>908</th>\n",
       "      <td>SMM4H2022jUbG4VYZSGSV5zUq</td>\n",
       "      <td>@USER__________ well was remicade. now we are ...</td>\n",
       "      <td>noADE</td>\n",
       "    </tr>\n",
       "  </tbody>\n",
       "</table>\n",
       "<p>909 rows × 3 columns</p>\n",
       "</div>"
      ],
      "text/plain": [
       "                      tweet_id  \\\n",
       "0    SMM4H2022ykI8vN7jZYnV57AM   \n",
       "1    SMM4H2022uCZV2SRsCe4vzjFm   \n",
       "2    SMM4H20229Aha6m4XERqYdFWf   \n",
       "3    SMM4H2022UAvDTQWOIacvBkzp   \n",
       "4    SMM4H2022qNHntuJnkevkahGr   \n",
       "..                         ...   \n",
       "904  SMM4H2022CgATBD494ehjw7Aj   \n",
       "905  SMM4H2022bRdYe0JKrY3chH6g   \n",
       "906  SMM4H2022BNvpfxDmxQy7BPsu   \n",
       "907  SMM4H20224d7PvtBV42vXzUgw   \n",
       "908  SMM4H2022jUbG4VYZSGSV5zUq   \n",
       "\n",
       "                                                 tweet  label  \n",
       "0    @USER_________ i found the humira to fix all m...    ADE  \n",
       "1    @USER__________ have to go to a doc now to see...    ADE  \n",
       "2    06.30 day 14 Rivaroxaban diary. Thanks to para...    ADE  \n",
       "3    rt @USER_______: my philly dr prescribed me tr...    ADE  \n",
       "4    ciprofloxacin: how do you expect to sleep when...    ADE  \n",
       "..                                                 ...    ...  \n",
       "904  They've used sildenafil to treat hypertension....  noADE  \n",
       "905  @USER______ thx! the lamictal was a lifesaver ...  noADE  \n",
       "906  Researchers to study effectiveness of atorvast...  noADE  \n",
       "907  Oral #bupe Buprenorphine Hemiadipate rapid dos...  noADE  \n",
       "908  @USER__________ well was remicade. now we are ...  noADE  \n",
       "\n",
       "[909 rows x 3 columns]"
      ]
     },
     "execution_count": 5,
     "metadata": {},
     "output_type": "execute_result"
    }
   ],
   "source": [
    "val_data"
   ]
  },
  {
   "cell_type": "code",
   "execution_count": 6,
   "metadata": {},
   "outputs": [],
   "source": [
    "import csv\n",
    "\n",
    "with open(r'train_data.tsv', 'w', newline='') as f:\n",
    "    tsv_w = csv.writer(f, delimiter='\\t')\n",
    "    tsv_w.writerow(['tweet_id', 'tweet', 'label'])\n",
    "    tsv_w.writerows(np.array(train_data).tolist())  # 多行写入"
   ]
  },
  {
   "cell_type": "code",
   "execution_count": 7,
   "metadata": {},
   "outputs": [],
   "source": [
    "with open(r'valid_data.tsv', 'w', newline='') as f:\n",
    "    tsv_w = csv.writer(f, delimiter='\\t')\n",
    "    tsv_w.writerow(['tweet_id', 'tweet', 'label'])\n",
    "    tsv_w.writerows(np.array(val_data).tolist())  # 多行写入"
   ]
  },
  {
   "cell_type": "code",
   "execution_count": null,
   "metadata": {},
   "outputs": [],
   "source": []
  }
 ],
 "metadata": {
  "kernelspec": {
   "display_name": "Python 3",
   "language": "python",
   "name": "python3"
  },
  "language_info": {
   "codemirror_mode": {
    "name": "ipython",
    "version": 3
   },
   "file_extension": ".py",
   "mimetype": "text/x-python",
   "name": "python",
   "nbconvert_exporter": "python",
   "pygments_lexer": "ipython3",
   "version": "3.7.4"
  },
  "vscode": {
   "interpreter": {
    "hash": "d721a769da35a93cbb6f6db7e00fa056cc550990e25834598118ae0f45041364"
   }
  }
 },
 "nbformat": 4,
 "nbformat_minor": 2
}
