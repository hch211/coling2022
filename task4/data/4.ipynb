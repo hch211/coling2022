{
 "cells": [
  {
   "cell_type": "code",
   "execution_count": 2,
   "id": "ab1cdc2a",
   "metadata": {},
   "outputs": [],
   "source": [
    "import pandas as pd"
   ]
  },
  {
   "cell_type": "code",
   "execution_count": 3,
   "id": "f25db0f3",
   "metadata": {},
   "outputs": [
    {
     "data": {
      "text/html": [
       "<div>\n",
       "<style scoped>\n",
       "    .dataframe tbody tr th:only-of-type {\n",
       "        vertical-align: middle;\n",
       "    }\n",
       "\n",
       "    .dataframe tbody tr th {\n",
       "        vertical-align: top;\n",
       "    }\n",
       "\n",
       "    .dataframe thead th {\n",
       "        text-align: right;\n",
       "    }\n",
       "</style>\n",
       "<table border=\"1\" class=\"dataframe\">\n",
       "  <thead>\n",
       "    <tr style=\"text-align: right;\">\n",
       "      <th></th>\n",
       "      <th>tweet_id</th>\n",
       "      <th>label</th>\n",
       "    </tr>\n",
       "  </thead>\n",
       "  <tbody>\n",
       "    <tr>\n",
       "      <th>count</th>\n",
       "      <td>1.000000e+04</td>\n",
       "      <td>10000.000000</td>\n",
       "    </tr>\n",
       "    <tr>\n",
       "      <th>mean</th>\n",
       "      <td>8.492759e+17</td>\n",
       "      <td>0.338500</td>\n",
       "    </tr>\n",
       "    <tr>\n",
       "      <th>std</th>\n",
       "      <td>1.975274e+17</td>\n",
       "      <td>0.473223</td>\n",
       "    </tr>\n",
       "    <tr>\n",
       "      <th>min</th>\n",
       "      <td>2.501753e+09</td>\n",
       "      <td>0.000000</td>\n",
       "    </tr>\n",
       "    <tr>\n",
       "      <th>25%</th>\n",
       "      <td>7.232090e+17</td>\n",
       "      <td>0.000000</td>\n",
       "    </tr>\n",
       "    <tr>\n",
       "      <th>50%</th>\n",
       "      <td>8.798601e+17</td>\n",
       "      <td>0.000000</td>\n",
       "    </tr>\n",
       "    <tr>\n",
       "      <th>75%</th>\n",
       "      <td>9.990626e+17</td>\n",
       "      <td>1.000000</td>\n",
       "    </tr>\n",
       "    <tr>\n",
       "      <th>max</th>\n",
       "      <td>1.178822e+18</td>\n",
       "      <td>1.000000</td>\n",
       "    </tr>\n",
       "  </tbody>\n",
       "</table>\n",
       "</div>"
      ],
      "text/plain": [
       "           tweet_id         label\n",
       "count  1.000000e+04  10000.000000\n",
       "mean   8.492759e+17      0.338500\n",
       "std    1.975274e+17      0.473223\n",
       "min    2.501753e+09      0.000000\n",
       "25%    7.232090e+17      0.000000\n",
       "50%    8.798601e+17      0.000000\n",
       "75%    9.990626e+17      1.000000\n",
       "max    1.178822e+18      1.000000"
      ]
     },
     "execution_count": 3,
     "metadata": {},
     "output_type": "execute_result"
    }
   ],
   "source": [
    "train = pd.read_csv('SMM4H-2022-Task4-Training.tsv', sep='\\t')\n",
    "valid = pd.read_csv('SMM4H-2022-Task4-Validation.tsv', sep='\\t')\n",
    "test = pd.read_csv('SMM4H-2022-Task4-Test-Unlabeled.tsv', sep='\\t')\n",
    "result = pd.read_csv('result.tsv', sep='\\t')\n",
    "result.describe()"
   ]
  },
  {
   "cell_type": "code",
   "execution_count": 6,
   "id": "f8a53f11",
   "metadata": {},
   "outputs": [
    {
     "data": {
      "text/html": [
       "<div>\n",
       "<style scoped>\n",
       "    .dataframe tbody tr th:only-of-type {\n",
       "        vertical-align: middle;\n",
       "    }\n",
       "\n",
       "    .dataframe tbody tr th {\n",
       "        vertical-align: top;\n",
       "    }\n",
       "\n",
       "    .dataframe thead th {\n",
       "        text-align: right;\n",
       "    }\n",
       "</style>\n",
       "<table border=\"1\" class=\"dataframe\">\n",
       "  <thead>\n",
       "    <tr style=\"text-align: right;\">\n",
       "      <th></th>\n",
       "      <th>tweet_id</th>\n",
       "      <th>text</th>\n",
       "      <th>label</th>\n",
       "    </tr>\n",
       "  </thead>\n",
       "  <tbody>\n",
       "    <tr>\n",
       "      <th>0</th>\n",
       "      <td>1112273204582801408</td>\n",
       "      <td>at 50 votes i will close this survey and take ...</td>\n",
       "      <td>0</td>\n",
       "    </tr>\n",
       "    <tr>\n",
       "      <th>1</th>\n",
       "      <td>993749367512170496</td>\n",
       "      <td>21st birthday and nearly 4 months pregnant, no...</td>\n",
       "      <td>1</td>\n",
       "    </tr>\n",
       "    <tr>\n",
       "      <th>2</th>\n",
       "      <td>847896906407624704</td>\n",
       "      <td>@_DudeThePie // I'd be killed. He's literally ...</td>\n",
       "      <td>0</td>\n",
       "    </tr>\n",
       "    <tr>\n",
       "      <th>3</th>\n",
       "      <td>550649598206050305</td>\n",
       "      <td>This year I'm gonna become a mum and turn 20, ...</td>\n",
       "      <td>1</td>\n",
       "    </tr>\n",
       "    <tr>\n",
       "      <th>4</th>\n",
       "      <td>742508883630030848</td>\n",
       "      <td>Don't mind me. Just freaking out because Mary-...</td>\n",
       "      <td>0</td>\n",
       "    </tr>\n",
       "    <tr>\n",
       "      <th>...</th>\n",
       "      <td>...</td>\n",
       "      <td>...</td>\n",
       "      <td>...</td>\n",
       "    </tr>\n",
       "    <tr>\n",
       "      <th>8795</th>\n",
       "      <td>723184609429721089</td>\n",
       "      <td>Happy Birthday Brandon James. Hope you have a ...</td>\n",
       "      <td>0</td>\n",
       "    </tr>\n",
       "    <tr>\n",
       "      <th>8796</th>\n",
       "      <td>998512138187689985</td>\n",
       "      <td>@JonBaker At age 50, I remember cheering \"bana...</td>\n",
       "      <td>0</td>\n",
       "    </tr>\n",
       "    <tr>\n",
       "      <th>8797</th>\n",
       "      <td>525498743756685312</td>\n",
       "      <td>Them Springfield mall pictures.. lol. #va #bda...</td>\n",
       "      <td>1</td>\n",
       "    </tr>\n",
       "    <tr>\n",
       "      <th>8798</th>\n",
       "      <td>745289059300446208</td>\n",
       "      <td>@316Andres88 when we turn 18 were going idgaf ...</td>\n",
       "      <td>0</td>\n",
       "    </tr>\n",
       "    <tr>\n",
       "      <th>8799</th>\n",
       "      <td>903984470021328897</td>\n",
       "      <td>@JanielftJano @Janielkawaii Fanmeosmwhskd me w...</td>\n",
       "      <td>0</td>\n",
       "    </tr>\n",
       "  </tbody>\n",
       "</table>\n",
       "<p>8800 rows × 3 columns</p>\n",
       "</div>"
      ],
      "text/plain": [
       "                 tweet_id                                               text  \\\n",
       "0     1112273204582801408  at 50 votes i will close this survey and take ...   \n",
       "1      993749367512170496  21st birthday and nearly 4 months pregnant, no...   \n",
       "2      847896906407624704  @_DudeThePie // I'd be killed. He's literally ...   \n",
       "3      550649598206050305  This year I'm gonna become a mum and turn 20, ...   \n",
       "4      742508883630030848  Don't mind me. Just freaking out because Mary-...   \n",
       "...                   ...                                                ...   \n",
       "8795   723184609429721089  Happy Birthday Brandon James. Hope you have a ...   \n",
       "8796   998512138187689985  @JonBaker At age 50, I remember cheering \"bana...   \n",
       "8797   525498743756685312  Them Springfield mall pictures.. lol. #va #bda...   \n",
       "8798   745289059300446208  @316Andres88 when we turn 18 were going idgaf ...   \n",
       "8799   903984470021328897  @JanielftJano @Janielkawaii Fanmeosmwhskd me w...   \n",
       "\n",
       "      label  \n",
       "0         0  \n",
       "1         1  \n",
       "2         0  \n",
       "3         1  \n",
       "4         0  \n",
       "...     ...  \n",
       "8795      0  \n",
       "8796      0  \n",
       "8797      1  \n",
       "8798      0  \n",
       "8799      0  \n",
       "\n",
       "[8800 rows x 3 columns]"
      ]
     },
     "execution_count": 6,
     "metadata": {},
     "output_type": "execute_result"
    }
   ],
   "source": [
    "train"
   ]
  },
  {
   "cell_type": "code",
   "execution_count": 4,
   "id": "9a9b51df",
   "metadata": {},
   "outputs": [
    {
     "data": {
      "text/plain": [
       "11000"
      ]
     },
     "execution_count": 4,
     "metadata": {},
     "output_type": "execute_result"
    }
   ],
   "source": [
    "len(train.label)+len(valid.label)"
   ]
  },
  {
   "cell_type": "code",
   "execution_count": 5,
   "id": "39e32b43",
   "metadata": {},
   "outputs": [
    {
     "data": {
      "text/plain": [
       "10000"
      ]
     },
     "execution_count": 5,
     "metadata": {},
     "output_type": "execute_result"
    }
   ],
   "source": [
    "len(test.tweet_id)"
   ]
  },
  {
   "cell_type": "code",
   "execution_count": 4,
   "id": "48843f24",
   "metadata": {},
   "outputs": [
    {
     "data": {
      "text/plain": [
       "0    5966\n",
       "1    2834\n",
       "Name: label, dtype: int64"
      ]
     },
     "execution_count": 4,
     "metadata": {},
     "output_type": "execute_result"
    }
   ],
   "source": [
    "train.label.value_counts()"
   ]
  },
  {
   "cell_type": "code",
   "execution_count": 6,
   "id": "db4e7434",
   "metadata": {},
   "outputs": [
    {
     "data": {
      "text/plain": [
       "0    1491\n",
       "1     709\n",
       "Name: label, dtype: int64"
      ]
     },
     "execution_count": 6,
     "metadata": {},
     "output_type": "execute_result"
    }
   ],
   "source": [
    "valid.label.value_counts()"
   ]
  },
  {
   "cell_type": "code",
   "execution_count": 8,
   "id": "97fa99f1",
   "metadata": {},
   "outputs": [],
   "source": [
    "# ids = []\n",
    "# texts = []\n",
    "# labels = []\n",
    "\n",
    "# with open('SMM4H-2022-Task4-Training.tsv','r') as f:\n",
    "#     for item in f.readlines():\n",
    "#         item = item.strip('\\n')\n",
    "#         item_list = item.split('\\t')\n",
    "#         assert len(item_list)==3\n",
    "#         ids.append(item_list[0])\n",
    "#         texts.append(item_list[1])\n",
    "#         labels.append(item_list[2])\n",
    "        \n",
    "# train_tweet = pd.DataFrame({'tweet_id':ids[1:],\n",
    "#                         'text':texts[1:],\n",
    "#                         'label':labels[1:]\n",
    "#                        })\n",
    "# train_tweet.to_csv('SMM4H-2022-Task4-Training.tsv',sep='\\t')"
   ]
  },
  {
   "cell_type": "code",
   "execution_count": 9,
   "id": "2d6028e9",
   "metadata": {},
   "outputs": [],
   "source": [
    "# ids = []\n",
    "# texts = []\n",
    "# labels = []\n",
    "\n",
    "# with open('SMM4H-2022-Task4-Validation.tsv','r') as f:\n",
    "#     for item in f.readlines():\n",
    "#         item = item.strip('\\n')\n",
    "#         item_list = item.split('\\t')\n",
    "#         assert len(item_list)==3\n",
    "#         ids.append(item_list[0])\n",
    "#         texts.append(item_list[1])\n",
    "#         labels.append(item_list[2])\n",
    "        \n",
    "# valid_tweet = pd.DataFrame({'tweet_id':ids[1:],\n",
    "#                         'text':texts[1:],\n",
    "#                         'label':labels[1:]\n",
    "#                        })\n",
    "# valid_tweet.to_csv('SMM4H-2022-Task4-Validation.tsv',sep='\\t')"
   ]
  },
  {
   "cell_type": "code",
   "execution_count": 10,
   "id": "ff65cbd3",
   "metadata": {},
   "outputs": [],
   "source": [
    "# ids = []\n",
    "# texts = []\n",
    "\n",
    "# with open('SMM4H-2022-Task4-Test-Unlabeled.tsv','r') as f:\n",
    "#     for item in f.readlines():\n",
    "#         item = item.strip('\\n')\n",
    "#         item_list = item.split('\\t')\n",
    "#         assert len(item_list)==2\n",
    "#         ids.append(item_list[0])\n",
    "#         texts.append(item_list[1])\n",
    "        \n",
    "# test_tweet = pd.DataFrame({'tweet_id':ids[1:],\n",
    "#                         'text':texts[1:]\n",
    "#                        })\n",
    "# test_tweet.to_csv('SMM4H-2022-Task4-Test-Unlabeled.tsv',sep='\\t')"
   ]
  },
  {
   "cell_type": "markdown",
   "id": "b0ef85b0",
   "metadata": {},
   "source": [
    "# 5 fold"
   ]
  },
  {
   "cell_type": "code",
   "execution_count": 14,
   "id": "0a088bd5",
   "metadata": {},
   "outputs": [],
   "source": [
    "merge_df = pd.concat([train,valid])"
   ]
  },
  {
   "cell_type": "code",
   "execution_count": 15,
   "id": "d50eeb12",
   "metadata": {},
   "outputs": [],
   "source": [
    "merge_df.to_csv('merge.tsv', sep='\\t')"
   ]
  },
  {
   "cell_type": "code",
   "execution_count": 3,
   "id": "834a3eaa",
   "metadata": {},
   "outputs": [
    {
     "data": {
      "text/html": [
       "<div>\n",
       "<style scoped>\n",
       "    .dataframe tbody tr th:only-of-type {\n",
       "        vertical-align: middle;\n",
       "    }\n",
       "\n",
       "    .dataframe tbody tr th {\n",
       "        vertical-align: top;\n",
       "    }\n",
       "\n",
       "    .dataframe thead th {\n",
       "        text-align: right;\n",
       "    }\n",
       "</style>\n",
       "<table border=\"1\" class=\"dataframe\">\n",
       "  <thead>\n",
       "    <tr style=\"text-align: right;\">\n",
       "      <th></th>\n",
       "      <th>tweet_id</th>\n",
       "      <th>text</th>\n",
       "      <th>label</th>\n",
       "    </tr>\n",
       "  </thead>\n",
       "  <tbody>\n",
       "    <tr>\n",
       "      <th>0</th>\n",
       "      <td>1112273204582801408</td>\n",
       "      <td>at 50 votes i will close this survey and take ...</td>\n",
       "      <td>0</td>\n",
       "    </tr>\n",
       "    <tr>\n",
       "      <th>1</th>\n",
       "      <td>993749367512170496</td>\n",
       "      <td>21st birthday and nearly 4 months pregnant, no...</td>\n",
       "      <td>1</td>\n",
       "    </tr>\n",
       "    <tr>\n",
       "      <th>2</th>\n",
       "      <td>847896906407624704</td>\n",
       "      <td>@_DudeThePie // I'd be killed. He's literally ...</td>\n",
       "      <td>0</td>\n",
       "    </tr>\n",
       "    <tr>\n",
       "      <th>3</th>\n",
       "      <td>550649598206050305</td>\n",
       "      <td>This year I'm gonna become a mum and turn 20, ...</td>\n",
       "      <td>1</td>\n",
       "    </tr>\n",
       "    <tr>\n",
       "      <th>4</th>\n",
       "      <td>742508883630030848</td>\n",
       "      <td>Don't mind me. Just freaking out because Mary-...</td>\n",
       "      <td>0</td>\n",
       "    </tr>\n",
       "    <tr>\n",
       "      <th>...</th>\n",
       "      <td>...</td>\n",
       "      <td>...</td>\n",
       "      <td>...</td>\n",
       "    </tr>\n",
       "    <tr>\n",
       "      <th>10995</th>\n",
       "      <td>1028649935648907264</td>\n",
       "      <td>Please help me realize this dream! I need to g...</td>\n",
       "      <td>0</td>\n",
       "    </tr>\n",
       "    <tr>\n",
       "      <th>10996</th>\n",
       "      <td>993551429175595008</td>\n",
       "      <td>@8richard6 @KeepTexasRed7 Sad to say, this is ...</td>\n",
       "      <td>0</td>\n",
       "    </tr>\n",
       "    <tr>\n",
       "      <th>10997</th>\n",
       "      <td>984557822179446784</td>\n",
       "      <td>@anotherseminole Damn true I had them for the ...</td>\n",
       "      <td>1</td>\n",
       "    </tr>\n",
       "    <tr>\n",
       "      <th>10998</th>\n",
       "      <td>866406748923600896</td>\n",
       "      <td>My birthday , 22 May 💜🎈</td>\n",
       "      <td>0</td>\n",
       "    </tr>\n",
       "    <tr>\n",
       "      <th>10999</th>\n",
       "      <td>1043357669271134211</td>\n",
       "      <td>@ActorMadhavan Hello sir, I'm Digvijay and tod...</td>\n",
       "      <td>0</td>\n",
       "    </tr>\n",
       "  </tbody>\n",
       "</table>\n",
       "<p>11000 rows × 3 columns</p>\n",
       "</div>"
      ],
      "text/plain": [
       "                  tweet_id                                               text  \\\n",
       "0      1112273204582801408  at 50 votes i will close this survey and take ...   \n",
       "1       993749367512170496  21st birthday and nearly 4 months pregnant, no...   \n",
       "2       847896906407624704  @_DudeThePie // I'd be killed. He's literally ...   \n",
       "3       550649598206050305  This year I'm gonna become a mum and turn 20, ...   \n",
       "4       742508883630030848  Don't mind me. Just freaking out because Mary-...   \n",
       "...                    ...                                                ...   \n",
       "10995  1028649935648907264  Please help me realize this dream! I need to g...   \n",
       "10996   993551429175595008  @8richard6 @KeepTexasRed7 Sad to say, this is ...   \n",
       "10997   984557822179446784  @anotherseminole Damn true I had them for the ...   \n",
       "10998   866406748923600896                            My birthday , 22 May 💜🎈   \n",
       "10999  1043357669271134211  @ActorMadhavan Hello sir, I'm Digvijay and tod...   \n",
       "\n",
       "       label  \n",
       "0          0  \n",
       "1          1  \n",
       "2          0  \n",
       "3          1  \n",
       "4          0  \n",
       "...      ...  \n",
       "10995      0  \n",
       "10996      0  \n",
       "10997      1  \n",
       "10998      0  \n",
       "10999      0  \n",
       "\n",
       "[11000 rows x 3 columns]"
      ]
     },
     "execution_count": 3,
     "metadata": {},
     "output_type": "execute_result"
    }
   ],
   "source": [
    "merge_df = pd.read_csv('merge.tsv', sep='\\t')\n",
    "merge_df = merge_df.drop('Unnamed: 0',axis=1)\n",
    "merge_df"
   ]
  },
  {
   "cell_type": "code",
   "execution_count": 17,
   "id": "2d96fddc",
   "metadata": {},
   "outputs": [],
   "source": [
    "size = len(merge_df.label)\n",
    "for i in range(5):\n",
    "    merge_df[int(i*0.2*size):int((i+1)*0.2*size)].to_csv('validation_{}.tsv'.format(i), sep='\\t')\n",
    "    merge_df.drop(list(range(int(i*0.2*size),int((i+1)*0.2*size)))).to_csv('train_{}.tsv'.format(i), sep='\\t')"
   ]
  },
  {
   "cell_type": "markdown",
   "id": "57b26aaa",
   "metadata": {},
   "source": [
    "# pseudo"
   ]
  },
  {
   "cell_type": "code",
   "execution_count": 4,
   "id": "93836c12",
   "metadata": {},
   "outputs": [
    {
     "data": {
      "text/html": [
       "<div>\n",
       "<style scoped>\n",
       "    .dataframe tbody tr th:only-of-type {\n",
       "        vertical-align: middle;\n",
       "    }\n",
       "\n",
       "    .dataframe tbody tr th {\n",
       "        vertical-align: top;\n",
       "    }\n",
       "\n",
       "    .dataframe thead th {\n",
       "        text-align: right;\n",
       "    }\n",
       "</style>\n",
       "<table border=\"1\" class=\"dataframe\">\n",
       "  <thead>\n",
       "    <tr style=\"text-align: right;\">\n",
       "      <th></th>\n",
       "      <th>tweet_id</th>\n",
       "      <th>text</th>\n",
       "      <th>label</th>\n",
       "    </tr>\n",
       "  </thead>\n",
       "  <tbody>\n",
       "    <tr>\n",
       "      <th>7980</th>\n",
       "      <td>936439761899851776</td>\n",
       "      <td>all my friends are turning 21 in 2018, finally</td>\n",
       "      <td>0</td>\n",
       "    </tr>\n",
       "    <tr>\n",
       "      <th>7259</th>\n",
       "      <td>974050132948758528</td>\n",
       "      <td>Another day at the office 😊 giving our time ba...</td>\n",
       "      <td>0</td>\n",
       "    </tr>\n",
       "    <tr>\n",
       "      <th>8434</th>\n",
       "      <td>874228184174149632</td>\n",
       "      <td>It's also National Red Rose, &amp;amp; Loving Day....</td>\n",
       "      <td>0</td>\n",
       "    </tr>\n",
       "    <tr>\n",
       "      <th>8429</th>\n",
       "      <td>948669843208884224</td>\n",
       "      <td>You know who is irredeemably  unintelligent to...</td>\n",
       "      <td>0</td>\n",
       "    </tr>\n",
       "    <tr>\n",
       "      <th>317</th>\n",
       "      <td>822293370508718080</td>\n",
       "      <td>Literally the only thing I care about once I t...</td>\n",
       "      <td>1</td>\n",
       "    </tr>\n",
       "    <tr>\n",
       "      <th>...</th>\n",
       "      <td>...</td>\n",
       "      <td>...</td>\n",
       "      <td>...</td>\n",
       "    </tr>\n",
       "    <tr>\n",
       "      <th>7500</th>\n",
       "      <td>1178183223249113088</td>\n",
       "      <td>I just learned how to properly wrap my hair at...</td>\n",
       "      <td>0</td>\n",
       "    </tr>\n",
       "    <tr>\n",
       "      <th>2452</th>\n",
       "      <td>1039170448733466624</td>\n",
       "      <td>But all these are things I was taught alongsid...</td>\n",
       "      <td>0</td>\n",
       "    </tr>\n",
       "    <tr>\n",
       "      <th>1327</th>\n",
       "      <td>892489486050799616</td>\n",
       "      <td>@TweetLikeAGirI 11 years young https://t.co/zb...</td>\n",
       "      <td>0</td>\n",
       "    </tr>\n",
       "    <tr>\n",
       "      <th>2658</th>\n",
       "      <td>577506188562141184</td>\n",
       "      <td>My 21st birthday is a month from tomorrow 😁💃</td>\n",
       "      <td>1</td>\n",
       "    </tr>\n",
       "    <tr>\n",
       "      <th>7755</th>\n",
       "      <td>1050200402451488768</td>\n",
       "      <td>@bwaystorm i don’t like it anymore but i used ...</td>\n",
       "      <td>0</td>\n",
       "    </tr>\n",
       "  </tbody>\n",
       "</table>\n",
       "<p>21000 rows × 3 columns</p>\n",
       "</div>"
      ],
      "text/plain": [
       "                 tweet_id                                               text  \\\n",
       "7980   936439761899851776     all my friends are turning 21 in 2018, finally   \n",
       "7259   974050132948758528  Another day at the office 😊 giving our time ba...   \n",
       "8434   874228184174149632  It's also National Red Rose, &amp; Loving Day....   \n",
       "8429   948669843208884224  You know who is irredeemably  unintelligent to...   \n",
       "317    822293370508718080  Literally the only thing I care about once I t...   \n",
       "...                   ...                                                ...   \n",
       "7500  1178183223249113088  I just learned how to properly wrap my hair at...   \n",
       "2452  1039170448733466624  But all these are things I was taught alongsid...   \n",
       "1327   892489486050799616  @TweetLikeAGirI 11 years young https://t.co/zb...   \n",
       "2658   577506188562141184       My 21st birthday is a month from tomorrow 😁💃   \n",
       "7755  1050200402451488768  @bwaystorm i don’t like it anymore but i used ...   \n",
       "\n",
       "      label  \n",
       "7980      0  \n",
       "7259      0  \n",
       "8434      0  \n",
       "8429      0  \n",
       "317       1  \n",
       "...     ...  \n",
       "7500      0  \n",
       "2452      0  \n",
       "1327      0  \n",
       "2658      1  \n",
       "7755      0  \n",
       "\n",
       "[21000 rows x 3 columns]"
      ]
     },
     "execution_count": 4,
     "metadata": {},
     "output_type": "execute_result"
    }
   ],
   "source": [
    "pred = pd.read_csv('result.tsv', sep='\\t')\n",
    "pseudo = pd.concat([pred,merge_df]).sample(frac=1)\n",
    "pseudo"
   ]
  },
  {
   "cell_type": "code",
   "execution_count": 5,
   "id": "deac4ddf",
   "metadata": {},
   "outputs": [],
   "source": [
    "pseudo.to_csv('pseudo.tsv', sep='\\t')\n",
    "pseudo = pd.read_csv('pseudo.tsv', sep='\\t')\n",
    "pseudo = pseudo.drop('Unnamed: 0',axis=1)"
   ]
  },
  {
   "cell_type": "code",
   "execution_count": 6,
   "id": "1069a7c2",
   "metadata": {},
   "outputs": [],
   "source": [
    "size = len(pseudo.label)\n",
    "for i in range(5):\n",
    "    pseudo[int(i*0.2*size):int((i+1)*0.2*size)].to_csv('validation_{}.tsv'.format(i), sep='\\t')\n",
    "    pseudo.drop(list(range(int(i*0.2*size),int((i+1)*0.2*size)))).to_csv('train_{}.tsv'.format(i), sep='\\t')"
   ]
  },
  {
   "cell_type": "code",
   "execution_count": null,
   "id": "e3127945",
   "metadata": {},
   "outputs": [],
   "source": []
  }
 ],
 "metadata": {
  "kernelspec": {
   "display_name": "Python 3 (ipykernel)",
   "language": "python",
   "name": "python3"
  },
  "language_info": {
   "codemirror_mode": {
    "name": "ipython",
    "version": 3
   },
   "file_extension": ".py",
   "mimetype": "text/x-python",
   "name": "python",
   "nbconvert_exporter": "python",
   "pygments_lexer": "ipython3",
   "version": "3.7.4"
  }
 },
 "nbformat": 4,
 "nbformat_minor": 5
}
